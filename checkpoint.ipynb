{
 "cells": [
  {
   "cell_type": "code",
   "execution_count": 1,
   "id": "8381bb2f",
   "metadata": {},
   "outputs": [],
   "source": [
    "import pandas as pd\n",
    "import numpy as np\n",
    "import datetime\n",
    "import matplotlib.pyplot as plt\n",
    "import plotly.express as px\n",
    "import seaborn as sns"
   ]
  },
  {
   "cell_type": "code",
   "execution_count": 2,
   "id": "3ab2ef7f",
   "metadata": {},
   "outputs": [
    {
     "name": "stdout",
     "output_type": "stream",
     "text": [
      "Arquivo de ref não existe\n"
     ]
    }
   ],
   "source": [
    "try:\n",
    "    df_household_convert = pd.read_csv(\n",
    "        \"data/household_power_consumption.txt\",\n",
    "        sep=\";\",\n",
    "        dtype=str\n",
    "    )\n",
    "\n",
    "    df_household_convert.to_parquet('data/household_power_consumption.parquet', engine='fastparquet', index=False)\n",
    "except FileNotFoundError:\n",
    "    print(\"Arquivo de ref não existe\")\n",
    "except Exception as e:\n",
    "    print(e)"
   ]
  },
  {
   "cell_type": "markdown",
   "id": "3394e117",
   "metadata": {},
   "source": [
    "### 1. Carregue o dataset e exiba as 10 primeiras linhas."
   ]
  },
  {
   "cell_type": "code",
   "execution_count": 3,
   "id": "73e6eda6",
   "metadata": {},
   "outputs": [
    {
     "data": {
      "text/html": [
       "<div>\n",
       "<style scoped>\n",
       "    .dataframe tbody tr th:only-of-type {\n",
       "        vertical-align: middle;\n",
       "    }\n",
       "\n",
       "    .dataframe tbody tr th {\n",
       "        vertical-align: top;\n",
       "    }\n",
       "\n",
       "    .dataframe thead th {\n",
       "        text-align: right;\n",
       "    }\n",
       "</style>\n",
       "<table border=\"1\" class=\"dataframe\">\n",
       "  <thead>\n",
       "    <tr style=\"text-align: right;\">\n",
       "      <th></th>\n",
       "      <th>Date</th>\n",
       "      <th>Time</th>\n",
       "      <th>Global_active_power</th>\n",
       "      <th>Global_reactive_power</th>\n",
       "      <th>Voltage</th>\n",
       "      <th>Global_intensity</th>\n",
       "      <th>Sub_metering_1</th>\n",
       "      <th>Sub_metering_2</th>\n",
       "      <th>Sub_metering_3</th>\n",
       "    </tr>\n",
       "  </thead>\n",
       "  <tbody>\n",
       "    <tr>\n",
       "      <th>0</th>\n",
       "      <td>16/12/2006</td>\n",
       "      <td>17:24:00</td>\n",
       "      <td>4.216</td>\n",
       "      <td>0.418</td>\n",
       "      <td>234.840</td>\n",
       "      <td>18.400</td>\n",
       "      <td>0.000</td>\n",
       "      <td>1.000</td>\n",
       "      <td>17.000</td>\n",
       "    </tr>\n",
       "    <tr>\n",
       "      <th>1</th>\n",
       "      <td>16/12/2006</td>\n",
       "      <td>17:25:00</td>\n",
       "      <td>5.360</td>\n",
       "      <td>0.436</td>\n",
       "      <td>233.630</td>\n",
       "      <td>23.000</td>\n",
       "      <td>0.000</td>\n",
       "      <td>1.000</td>\n",
       "      <td>16.000</td>\n",
       "    </tr>\n",
       "    <tr>\n",
       "      <th>2</th>\n",
       "      <td>16/12/2006</td>\n",
       "      <td>17:26:00</td>\n",
       "      <td>5.374</td>\n",
       "      <td>0.498</td>\n",
       "      <td>233.290</td>\n",
       "      <td>23.000</td>\n",
       "      <td>0.000</td>\n",
       "      <td>2.000</td>\n",
       "      <td>17.000</td>\n",
       "    </tr>\n",
       "    <tr>\n",
       "      <th>3</th>\n",
       "      <td>16/12/2006</td>\n",
       "      <td>17:27:00</td>\n",
       "      <td>5.388</td>\n",
       "      <td>0.502</td>\n",
       "      <td>233.740</td>\n",
       "      <td>23.000</td>\n",
       "      <td>0.000</td>\n",
       "      <td>1.000</td>\n",
       "      <td>17.000</td>\n",
       "    </tr>\n",
       "    <tr>\n",
       "      <th>4</th>\n",
       "      <td>16/12/2006</td>\n",
       "      <td>17:28:00</td>\n",
       "      <td>3.666</td>\n",
       "      <td>0.528</td>\n",
       "      <td>235.680</td>\n",
       "      <td>15.800</td>\n",
       "      <td>0.000</td>\n",
       "      <td>1.000</td>\n",
       "      <td>17.000</td>\n",
       "    </tr>\n",
       "    <tr>\n",
       "      <th>5</th>\n",
       "      <td>16/12/2006</td>\n",
       "      <td>17:29:00</td>\n",
       "      <td>3.520</td>\n",
       "      <td>0.522</td>\n",
       "      <td>235.020</td>\n",
       "      <td>15.000</td>\n",
       "      <td>0.000</td>\n",
       "      <td>2.000</td>\n",
       "      <td>17.000</td>\n",
       "    </tr>\n",
       "    <tr>\n",
       "      <th>6</th>\n",
       "      <td>16/12/2006</td>\n",
       "      <td>17:30:00</td>\n",
       "      <td>3.702</td>\n",
       "      <td>0.520</td>\n",
       "      <td>235.090</td>\n",
       "      <td>15.800</td>\n",
       "      <td>0.000</td>\n",
       "      <td>1.000</td>\n",
       "      <td>17.000</td>\n",
       "    </tr>\n",
       "    <tr>\n",
       "      <th>7</th>\n",
       "      <td>16/12/2006</td>\n",
       "      <td>17:31:00</td>\n",
       "      <td>3.700</td>\n",
       "      <td>0.520</td>\n",
       "      <td>235.220</td>\n",
       "      <td>15.800</td>\n",
       "      <td>0.000</td>\n",
       "      <td>1.000</td>\n",
       "      <td>17.000</td>\n",
       "    </tr>\n",
       "    <tr>\n",
       "      <th>8</th>\n",
       "      <td>16/12/2006</td>\n",
       "      <td>17:32:00</td>\n",
       "      <td>3.668</td>\n",
       "      <td>0.510</td>\n",
       "      <td>233.990</td>\n",
       "      <td>15.800</td>\n",
       "      <td>0.000</td>\n",
       "      <td>1.000</td>\n",
       "      <td>17.000</td>\n",
       "    </tr>\n",
       "    <tr>\n",
       "      <th>9</th>\n",
       "      <td>16/12/2006</td>\n",
       "      <td>17:33:00</td>\n",
       "      <td>3.662</td>\n",
       "      <td>0.510</td>\n",
       "      <td>233.860</td>\n",
       "      <td>15.800</td>\n",
       "      <td>0.000</td>\n",
       "      <td>2.000</td>\n",
       "      <td>16.000</td>\n",
       "    </tr>\n",
       "  </tbody>\n",
       "</table>\n",
       "</div>"
      ],
      "text/plain": [
       "         Date      Time Global_active_power Global_reactive_power  Voltage  \\\n",
       "0  16/12/2006  17:24:00               4.216                 0.418  234.840   \n",
       "1  16/12/2006  17:25:00               5.360                 0.436  233.630   \n",
       "2  16/12/2006  17:26:00               5.374                 0.498  233.290   \n",
       "3  16/12/2006  17:27:00               5.388                 0.502  233.740   \n",
       "4  16/12/2006  17:28:00               3.666                 0.528  235.680   \n",
       "5  16/12/2006  17:29:00               3.520                 0.522  235.020   \n",
       "6  16/12/2006  17:30:00               3.702                 0.520  235.090   \n",
       "7  16/12/2006  17:31:00               3.700                 0.520  235.220   \n",
       "8  16/12/2006  17:32:00               3.668                 0.510  233.990   \n",
       "9  16/12/2006  17:33:00               3.662                 0.510  233.860   \n",
       "\n",
       "  Global_intensity Sub_metering_1 Sub_metering_2 Sub_metering_3  \n",
       "0           18.400          0.000          1.000         17.000  \n",
       "1           23.000          0.000          1.000         16.000  \n",
       "2           23.000          0.000          2.000         17.000  \n",
       "3           23.000          0.000          1.000         17.000  \n",
       "4           15.800          0.000          1.000         17.000  \n",
       "5           15.000          0.000          2.000         17.000  \n",
       "6           15.800          0.000          1.000         17.000  \n",
       "7           15.800          0.000          1.000         17.000  \n",
       "8           15.800          0.000          1.000         17.000  \n",
       "9           15.800          0.000          2.000         16.000  "
      ]
     },
     "execution_count": 3,
     "metadata": {},
     "output_type": "execute_result"
    }
   ],
   "source": [
    "df_household = pd.read_parquet(\n",
    "    \"data/household_power_consumption.parquet\",\n",
    "    engine='fastparquet',\n",
    ")\n",
    "\n",
    "df_household.head(10)"
   ]
  },
  {
   "cell_type": "markdown",
   "id": "b5248d50",
   "metadata": {},
   "source": [
    "---\n",
    "\n",
    "### 2. Explique a diferença entre as variáveis Global_active_power e Global_reactive_power.\n",
    "\n",
    "- Global_active_power:\n",
    "  A energia real que está sendo consumida pela residência para realizar trabalho útil.\n",
    "\n",
    "- Global_reactive_power:\n",
    "  A energia que circula no sistema elétrico, mas não é convertida em trabalho útil.\n"
   ]
  },
  {
   "cell_type": "markdown",
   "id": "d7cd43d4",
   "metadata": {},
   "source": [
    "---\n",
    "\n",
    "### 3. Verifique se existem valores ausentes no dataset. Quantifique-os."
   ]
  },
  {
   "cell_type": "code",
   "execution_count": 4,
   "id": "c2cc6a7a",
   "metadata": {},
   "outputs": [],
   "source": [
    "for col in [\n",
    "    \"Global_active_power\",\n",
    "    \"Global_reactive_power\",\n",
    "    \"Voltage\",\n",
    "    \"Global_intensity\",\n",
    "    \"Sub_metering_1\",\n",
    "    \"Sub_metering_2\",\n",
    "    \"Sub_metering_3\",\n",
    "]:\n",
    "    df_household[col] = pd.to_numeric(df_household[col], errors='coerce')"
   ]
  },
  {
   "cell_type": "code",
   "execution_count": 5,
   "id": "6633c894",
   "metadata": {},
   "outputs": [
    {
     "name": "stdout",
     "output_type": "stream",
     "text": [
      "<class 'pandas.core.frame.DataFrame'>\n",
      "RangeIndex: 2075259 entries, 0 to 2075258\n",
      "Data columns (total 9 columns):\n",
      " #   Column                 Dtype  \n",
      "---  ------                 -----  \n",
      " 0   Date                   object \n",
      " 1   Time                   object \n",
      " 2   Global_active_power    float64\n",
      " 3   Global_reactive_power  float64\n",
      " 4   Voltage                float64\n",
      " 5   Global_intensity       float64\n",
      " 6   Sub_metering_1         float64\n",
      " 7   Sub_metering_2         float64\n",
      " 8   Sub_metering_3         float64\n",
      "dtypes: float64(7), object(2)\n",
      "memory usage: 142.5+ MB\n"
     ]
    },
    {
     "data": {
      "text/html": [
       "<div>\n",
       "<style scoped>\n",
       "    .dataframe tbody tr th:only-of-type {\n",
       "        vertical-align: middle;\n",
       "    }\n",
       "\n",
       "    .dataframe tbody tr th {\n",
       "        vertical-align: top;\n",
       "    }\n",
       "\n",
       "    .dataframe thead th {\n",
       "        text-align: right;\n",
       "    }\n",
       "</style>\n",
       "<table border=\"1\" class=\"dataframe\">\n",
       "  <thead>\n",
       "    <tr style=\"text-align: right;\">\n",
       "      <th></th>\n",
       "      <th>Date</th>\n",
       "      <th>Time</th>\n",
       "      <th>Global_active_power</th>\n",
       "      <th>Global_reactive_power</th>\n",
       "      <th>Voltage</th>\n",
       "      <th>Global_intensity</th>\n",
       "      <th>Sub_metering_1</th>\n",
       "      <th>Sub_metering_2</th>\n",
       "      <th>Sub_metering_3</th>\n",
       "    </tr>\n",
       "  </thead>\n",
       "  <tbody>\n",
       "    <tr>\n",
       "      <th>0</th>\n",
       "      <td>16/12/2006</td>\n",
       "      <td>17:24:00</td>\n",
       "      <td>4.216</td>\n",
       "      <td>0.418</td>\n",
       "      <td>234.84</td>\n",
       "      <td>18.4</td>\n",
       "      <td>0.0</td>\n",
       "      <td>1.0</td>\n",
       "      <td>17.0</td>\n",
       "    </tr>\n",
       "    <tr>\n",
       "      <th>1</th>\n",
       "      <td>16/12/2006</td>\n",
       "      <td>17:25:00</td>\n",
       "      <td>5.360</td>\n",
       "      <td>0.436</td>\n",
       "      <td>233.63</td>\n",
       "      <td>23.0</td>\n",
       "      <td>0.0</td>\n",
       "      <td>1.0</td>\n",
       "      <td>16.0</td>\n",
       "    </tr>\n",
       "    <tr>\n",
       "      <th>2</th>\n",
       "      <td>16/12/2006</td>\n",
       "      <td>17:26:00</td>\n",
       "      <td>5.374</td>\n",
       "      <td>0.498</td>\n",
       "      <td>233.29</td>\n",
       "      <td>23.0</td>\n",
       "      <td>0.0</td>\n",
       "      <td>2.0</td>\n",
       "      <td>17.0</td>\n",
       "    </tr>\n",
       "    <tr>\n",
       "      <th>3</th>\n",
       "      <td>16/12/2006</td>\n",
       "      <td>17:27:00</td>\n",
       "      <td>5.388</td>\n",
       "      <td>0.502</td>\n",
       "      <td>233.74</td>\n",
       "      <td>23.0</td>\n",
       "      <td>0.0</td>\n",
       "      <td>1.0</td>\n",
       "      <td>17.0</td>\n",
       "    </tr>\n",
       "    <tr>\n",
       "      <th>4</th>\n",
       "      <td>16/12/2006</td>\n",
       "      <td>17:28:00</td>\n",
       "      <td>3.666</td>\n",
       "      <td>0.528</td>\n",
       "      <td>235.68</td>\n",
       "      <td>15.8</td>\n",
       "      <td>0.0</td>\n",
       "      <td>1.0</td>\n",
       "      <td>17.0</td>\n",
       "    </tr>\n",
       "  </tbody>\n",
       "</table>\n",
       "</div>"
      ],
      "text/plain": [
       "         Date      Time  Global_active_power  Global_reactive_power  Voltage  \\\n",
       "0  16/12/2006  17:24:00                4.216                  0.418   234.84   \n",
       "1  16/12/2006  17:25:00                5.360                  0.436   233.63   \n",
       "2  16/12/2006  17:26:00                5.374                  0.498   233.29   \n",
       "3  16/12/2006  17:27:00                5.388                  0.502   233.74   \n",
       "4  16/12/2006  17:28:00                3.666                  0.528   235.68   \n",
       "\n",
       "   Global_intensity  Sub_metering_1  Sub_metering_2  Sub_metering_3  \n",
       "0              18.4             0.0             1.0            17.0  \n",
       "1              23.0             0.0             1.0            16.0  \n",
       "2              23.0             0.0             2.0            17.0  \n",
       "3              23.0             0.0             1.0            17.0  \n",
       "4              15.8             0.0             1.0            17.0  "
      ]
     },
     "execution_count": 5,
     "metadata": {},
     "output_type": "execute_result"
    }
   ],
   "source": [
    "df_household.info()\n",
    "df_household.head()"
   ]
  },
  {
   "cell_type": "code",
   "execution_count": 6,
   "id": "07bd5a88",
   "metadata": {},
   "outputs": [
    {
     "data": {
      "text/html": [
       "<div>\n",
       "<style scoped>\n",
       "    .dataframe tbody tr th:only-of-type {\n",
       "        vertical-align: middle;\n",
       "    }\n",
       "\n",
       "    .dataframe tbody tr th {\n",
       "        vertical-align: top;\n",
       "    }\n",
       "\n",
       "    .dataframe thead th {\n",
       "        text-align: right;\n",
       "    }\n",
       "</style>\n",
       "<table border=\"1\" class=\"dataframe\">\n",
       "  <thead>\n",
       "    <tr style=\"text-align: right;\">\n",
       "      <th></th>\n",
       "      <th>nao_nulos</th>\n",
       "      <th>nulos</th>\n",
       "      <th>percentual (%)</th>\n",
       "    </tr>\n",
       "  </thead>\n",
       "  <tbody>\n",
       "    <tr>\n",
       "      <th>Date</th>\n",
       "      <td>2075259</td>\n",
       "      <td>0</td>\n",
       "      <td>0.000000</td>\n",
       "    </tr>\n",
       "    <tr>\n",
       "      <th>Time</th>\n",
       "      <td>2075259</td>\n",
       "      <td>0</td>\n",
       "      <td>0.000000</td>\n",
       "    </tr>\n",
       "    <tr>\n",
       "      <th>Global_active_power</th>\n",
       "      <td>2049280</td>\n",
       "      <td>25979</td>\n",
       "      <td>1.251844</td>\n",
       "    </tr>\n",
       "    <tr>\n",
       "      <th>Global_reactive_power</th>\n",
       "      <td>2049280</td>\n",
       "      <td>25979</td>\n",
       "      <td>1.251844</td>\n",
       "    </tr>\n",
       "    <tr>\n",
       "      <th>Voltage</th>\n",
       "      <td>2049280</td>\n",
       "      <td>25979</td>\n",
       "      <td>1.251844</td>\n",
       "    </tr>\n",
       "    <tr>\n",
       "      <th>Global_intensity</th>\n",
       "      <td>2049280</td>\n",
       "      <td>25979</td>\n",
       "      <td>1.251844</td>\n",
       "    </tr>\n",
       "    <tr>\n",
       "      <th>Sub_metering_1</th>\n",
       "      <td>2049280</td>\n",
       "      <td>25979</td>\n",
       "      <td>1.251844</td>\n",
       "    </tr>\n",
       "    <tr>\n",
       "      <th>Sub_metering_2</th>\n",
       "      <td>2049280</td>\n",
       "      <td>25979</td>\n",
       "      <td>1.251844</td>\n",
       "    </tr>\n",
       "    <tr>\n",
       "      <th>Sub_metering_3</th>\n",
       "      <td>2049280</td>\n",
       "      <td>25979</td>\n",
       "      <td>1.251844</td>\n",
       "    </tr>\n",
       "  </tbody>\n",
       "</table>\n",
       "</div>"
      ],
      "text/plain": [
       "                       nao_nulos  nulos  percentual (%)\n",
       "Date                     2075259      0        0.000000\n",
       "Time                     2075259      0        0.000000\n",
       "Global_active_power      2049280  25979        1.251844\n",
       "Global_reactive_power    2049280  25979        1.251844\n",
       "Voltage                  2049280  25979        1.251844\n",
       "Global_intensity         2049280  25979        1.251844\n",
       "Sub_metering_1           2049280  25979        1.251844\n",
       "Sub_metering_2           2049280  25979        1.251844\n",
       "Sub_metering_3           2049280  25979        1.251844"
      ]
     },
     "execution_count": 6,
     "metadata": {},
     "output_type": "execute_result"
    }
   ],
   "source": [
    "df_null_data = pd.DataFrame(\n",
    "    {\n",
    "        \"nao_nulos\": df_household.notna().sum(),\n",
    "        \"nulos\": df_household.isna().sum(),\n",
    "        \"percentual (%)\": df_household.isna().mean() * 100,\n",
    "    }\n",
    ")\n",
    "df_null_data"
   ]
  },
  {
   "cell_type": "markdown",
   "id": "efdec1af",
   "metadata": {},
   "source": [
    "---\n",
    "\n",
    "### 4. Converta a coluna Date para o tipo datetime e crie uma nova coluna com o dia da semana correspondente\n"
   ]
  },
  {
   "cell_type": "code",
   "execution_count": 7,
   "id": "b102f8c2",
   "metadata": {},
   "outputs": [],
   "source": [
    "def dia_da_semana(dia: pd.Timestamp):\n",
    "    dia_semana = datetime.date.weekday(dia)\n",
    "    if dia_semana == 0:\n",
    "        return \"Segunda\"\n",
    "    elif dia_semana == 1:\n",
    "        return \"Terça\"\n",
    "    elif dia_semana == 2:\n",
    "        return \"Quarta\"\n",
    "    elif dia_semana == 3:\n",
    "        return \"Quinta\"\n",
    "    elif dia_semana == 4:\n",
    "        return \"Sexta\"\n",
    "    elif dia_semana == 5:\n",
    "        return \"Sabado\"\n",
    "    elif dia_semana == 6:\n",
    "        return \"Domingo\"\n",
    "    else:\n",
    "        return \"erro\""
   ]
  },
  {
   "cell_type": "code",
   "execution_count": 8,
   "id": "3952caa5",
   "metadata": {},
   "outputs": [],
   "source": [
    "df_household['Date'] = pd.to_datetime(df_household['Date'], dayfirst=True)\n",
    "df_household['week_day'] = df_household['Date'].apply(lambda x: dia_da_semana(x))"
   ]
  },
  {
   "cell_type": "code",
   "execution_count": 9,
   "id": "8f9250db",
   "metadata": {},
   "outputs": [
    {
     "data": {
      "text/html": [
       "<div>\n",
       "<style scoped>\n",
       "    .dataframe tbody tr th:only-of-type {\n",
       "        vertical-align: middle;\n",
       "    }\n",
       "\n",
       "    .dataframe tbody tr th {\n",
       "        vertical-align: top;\n",
       "    }\n",
       "\n",
       "    .dataframe thead th {\n",
       "        text-align: right;\n",
       "    }\n",
       "</style>\n",
       "<table border=\"1\" class=\"dataframe\">\n",
       "  <thead>\n",
       "    <tr style=\"text-align: right;\">\n",
       "      <th></th>\n",
       "      <th>Date</th>\n",
       "      <th>Time</th>\n",
       "      <th>Global_active_power</th>\n",
       "      <th>Global_reactive_power</th>\n",
       "      <th>Voltage</th>\n",
       "      <th>Global_intensity</th>\n",
       "      <th>Sub_metering_1</th>\n",
       "      <th>Sub_metering_2</th>\n",
       "      <th>Sub_metering_3</th>\n",
       "      <th>week_day</th>\n",
       "    </tr>\n",
       "  </thead>\n",
       "  <tbody>\n",
       "    <tr>\n",
       "      <th>0</th>\n",
       "      <td>2006-12-16</td>\n",
       "      <td>17:24:00</td>\n",
       "      <td>4.216</td>\n",
       "      <td>0.418</td>\n",
       "      <td>234.84</td>\n",
       "      <td>18.4</td>\n",
       "      <td>0.0</td>\n",
       "      <td>1.0</td>\n",
       "      <td>17.0</td>\n",
       "      <td>Sabado</td>\n",
       "    </tr>\n",
       "    <tr>\n",
       "      <th>1</th>\n",
       "      <td>2006-12-16</td>\n",
       "      <td>17:25:00</td>\n",
       "      <td>5.360</td>\n",
       "      <td>0.436</td>\n",
       "      <td>233.63</td>\n",
       "      <td>23.0</td>\n",
       "      <td>0.0</td>\n",
       "      <td>1.0</td>\n",
       "      <td>16.0</td>\n",
       "      <td>Sabado</td>\n",
       "    </tr>\n",
       "    <tr>\n",
       "      <th>2</th>\n",
       "      <td>2006-12-16</td>\n",
       "      <td>17:26:00</td>\n",
       "      <td>5.374</td>\n",
       "      <td>0.498</td>\n",
       "      <td>233.29</td>\n",
       "      <td>23.0</td>\n",
       "      <td>0.0</td>\n",
       "      <td>2.0</td>\n",
       "      <td>17.0</td>\n",
       "      <td>Sabado</td>\n",
       "    </tr>\n",
       "    <tr>\n",
       "      <th>3</th>\n",
       "      <td>2006-12-16</td>\n",
       "      <td>17:27:00</td>\n",
       "      <td>5.388</td>\n",
       "      <td>0.502</td>\n",
       "      <td>233.74</td>\n",
       "      <td>23.0</td>\n",
       "      <td>0.0</td>\n",
       "      <td>1.0</td>\n",
       "      <td>17.0</td>\n",
       "      <td>Sabado</td>\n",
       "    </tr>\n",
       "    <tr>\n",
       "      <th>4</th>\n",
       "      <td>2006-12-16</td>\n",
       "      <td>17:28:00</td>\n",
       "      <td>3.666</td>\n",
       "      <td>0.528</td>\n",
       "      <td>235.68</td>\n",
       "      <td>15.8</td>\n",
       "      <td>0.0</td>\n",
       "      <td>1.0</td>\n",
       "      <td>17.0</td>\n",
       "      <td>Sabado</td>\n",
       "    </tr>\n",
       "  </tbody>\n",
       "</table>\n",
       "</div>"
      ],
      "text/plain": [
       "        Date      Time  Global_active_power  Global_reactive_power  Voltage  \\\n",
       "0 2006-12-16  17:24:00                4.216                  0.418   234.84   \n",
       "1 2006-12-16  17:25:00                5.360                  0.436   233.63   \n",
       "2 2006-12-16  17:26:00                5.374                  0.498   233.29   \n",
       "3 2006-12-16  17:27:00                5.388                  0.502   233.74   \n",
       "4 2006-12-16  17:28:00                3.666                  0.528   235.68   \n",
       "\n",
       "   Global_intensity  Sub_metering_1  Sub_metering_2  Sub_metering_3 week_day  \n",
       "0              18.4             0.0             1.0            17.0   Sabado  \n",
       "1              23.0             0.0             1.0            16.0   Sabado  \n",
       "2              23.0             0.0             2.0            17.0   Sabado  \n",
       "3              23.0             0.0             1.0            17.0   Sabado  \n",
       "4              15.8             0.0             1.0            17.0   Sabado  "
      ]
     },
     "execution_count": 9,
     "metadata": {},
     "output_type": "execute_result"
    }
   ],
   "source": [
    "df_household.head()"
   ]
  },
  {
   "cell_type": "markdown",
   "id": "9f369423",
   "metadata": {},
   "source": [
    "---\n",
    "\n",
    "### 5. Filtre os registros apenas do ano de 2007 e calcule a média de consumo diário de Global_active_power.\n"
   ]
  },
  {
   "cell_type": "code",
   "execution_count": 10,
   "id": "710e214a",
   "metadata": {},
   "outputs": [],
   "source": [
    "df_household['year'] = df_household['Date'].apply(lambda x: x.year)"
   ]
  },
  {
   "cell_type": "code",
   "execution_count": 11,
   "id": "760c433e",
   "metadata": {},
   "outputs": [
    {
     "data": {
      "text/html": [
       "<div>\n",
       "<style scoped>\n",
       "    .dataframe tbody tr th:only-of-type {\n",
       "        vertical-align: middle;\n",
       "    }\n",
       "\n",
       "    .dataframe tbody tr th {\n",
       "        vertical-align: top;\n",
       "    }\n",
       "\n",
       "    .dataframe thead th {\n",
       "        text-align: right;\n",
       "    }\n",
       "</style>\n",
       "<table border=\"1\" class=\"dataframe\">\n",
       "  <thead>\n",
       "    <tr style=\"text-align: right;\">\n",
       "      <th></th>\n",
       "      <th>Date</th>\n",
       "      <th>Time</th>\n",
       "      <th>Global_active_power</th>\n",
       "      <th>Global_reactive_power</th>\n",
       "      <th>Voltage</th>\n",
       "      <th>Global_intensity</th>\n",
       "      <th>Sub_metering_1</th>\n",
       "      <th>Sub_metering_2</th>\n",
       "      <th>Sub_metering_3</th>\n",
       "      <th>week_day</th>\n",
       "      <th>year</th>\n",
       "    </tr>\n",
       "  </thead>\n",
       "  <tbody>\n",
       "    <tr>\n",
       "      <th>0</th>\n",
       "      <td>2006-12-16</td>\n",
       "      <td>17:24:00</td>\n",
       "      <td>4.216</td>\n",
       "      <td>0.418</td>\n",
       "      <td>234.84</td>\n",
       "      <td>18.4</td>\n",
       "      <td>0.0</td>\n",
       "      <td>1.0</td>\n",
       "      <td>17.0</td>\n",
       "      <td>Sabado</td>\n",
       "      <td>2006</td>\n",
       "    </tr>\n",
       "    <tr>\n",
       "      <th>1</th>\n",
       "      <td>2006-12-16</td>\n",
       "      <td>17:25:00</td>\n",
       "      <td>5.360</td>\n",
       "      <td>0.436</td>\n",
       "      <td>233.63</td>\n",
       "      <td>23.0</td>\n",
       "      <td>0.0</td>\n",
       "      <td>1.0</td>\n",
       "      <td>16.0</td>\n",
       "      <td>Sabado</td>\n",
       "      <td>2006</td>\n",
       "    </tr>\n",
       "    <tr>\n",
       "      <th>2</th>\n",
       "      <td>2006-12-16</td>\n",
       "      <td>17:26:00</td>\n",
       "      <td>5.374</td>\n",
       "      <td>0.498</td>\n",
       "      <td>233.29</td>\n",
       "      <td>23.0</td>\n",
       "      <td>0.0</td>\n",
       "      <td>2.0</td>\n",
       "      <td>17.0</td>\n",
       "      <td>Sabado</td>\n",
       "      <td>2006</td>\n",
       "    </tr>\n",
       "    <tr>\n",
       "      <th>3</th>\n",
       "      <td>2006-12-16</td>\n",
       "      <td>17:27:00</td>\n",
       "      <td>5.388</td>\n",
       "      <td>0.502</td>\n",
       "      <td>233.74</td>\n",
       "      <td>23.0</td>\n",
       "      <td>0.0</td>\n",
       "      <td>1.0</td>\n",
       "      <td>17.0</td>\n",
       "      <td>Sabado</td>\n",
       "      <td>2006</td>\n",
       "    </tr>\n",
       "    <tr>\n",
       "      <th>4</th>\n",
       "      <td>2006-12-16</td>\n",
       "      <td>17:28:00</td>\n",
       "      <td>3.666</td>\n",
       "      <td>0.528</td>\n",
       "      <td>235.68</td>\n",
       "      <td>15.8</td>\n",
       "      <td>0.0</td>\n",
       "      <td>1.0</td>\n",
       "      <td>17.0</td>\n",
       "      <td>Sabado</td>\n",
       "      <td>2006</td>\n",
       "    </tr>\n",
       "  </tbody>\n",
       "</table>\n",
       "</div>"
      ],
      "text/plain": [
       "        Date      Time  Global_active_power  Global_reactive_power  Voltage  \\\n",
       "0 2006-12-16  17:24:00                4.216                  0.418   234.84   \n",
       "1 2006-12-16  17:25:00                5.360                  0.436   233.63   \n",
       "2 2006-12-16  17:26:00                5.374                  0.498   233.29   \n",
       "3 2006-12-16  17:27:00                5.388                  0.502   233.74   \n",
       "4 2006-12-16  17:28:00                3.666                  0.528   235.68   \n",
       "\n",
       "   Global_intensity  Sub_metering_1  Sub_metering_2  Sub_metering_3 week_day  \\\n",
       "0              18.4             0.0             1.0            17.0   Sabado   \n",
       "1              23.0             0.0             1.0            16.0   Sabado   \n",
       "2              23.0             0.0             2.0            17.0   Sabado   \n",
       "3              23.0             0.0             1.0            17.0   Sabado   \n",
       "4              15.8             0.0             1.0            17.0   Sabado   \n",
       "\n",
       "   year  \n",
       "0  2006  \n",
       "1  2006  \n",
       "2  2006  \n",
       "3  2006  \n",
       "4  2006  "
      ]
     },
     "execution_count": 11,
     "metadata": {},
     "output_type": "execute_result"
    }
   ],
   "source": [
    "df_household.head()"
   ]
  },
  {
   "cell_type": "code",
   "execution_count": 12,
   "id": "23c5cb7f",
   "metadata": {},
   "outputs": [
    {
     "data": {
      "text/html": [
       "<div>\n",
       "<style scoped>\n",
       "    .dataframe tbody tr th:only-of-type {\n",
       "        vertical-align: middle;\n",
       "    }\n",
       "\n",
       "    .dataframe tbody tr th {\n",
       "        vertical-align: top;\n",
       "    }\n",
       "\n",
       "    .dataframe thead th {\n",
       "        text-align: right;\n",
       "    }\n",
       "</style>\n",
       "<table border=\"1\" class=\"dataframe\">\n",
       "  <thead>\n",
       "    <tr style=\"text-align: right;\">\n",
       "      <th></th>\n",
       "      <th>year</th>\n",
       "      <th>Global_active_power</th>\n",
       "    </tr>\n",
       "  </thead>\n",
       "  <tbody>\n",
       "    <tr>\n",
       "      <th>1</th>\n",
       "      <td>2007</td>\n",
       "      <td>1.117008</td>\n",
       "    </tr>\n",
       "  </tbody>\n",
       "</table>\n",
       "</div>"
      ],
      "text/plain": [
       "   year  Global_active_power\n",
       "1  2007             1.117008"
      ]
     },
     "execution_count": 12,
     "metadata": {},
     "output_type": "execute_result"
    }
   ],
   "source": [
    "df_household_group_by_year = (\n",
    "    df_household.groupby([\"year\"])\n",
    "    .agg({\"Global_active_power\": \"mean\"})\n",
    "    .reset_index()\n",
    ")\n",
    "df_household_group_by_year[df_household_group_by_year['year'] == 2007]\n",
    "# df_household_group_by_year.info()"
   ]
  },
  {
   "cell_type": "markdown",
   "id": "6aed3228",
   "metadata": {},
   "source": [
    "---\n",
    "\n",
    "### 6. Gere um gráfico de linha mostrando a variação de Global_active_power em um único dia à sua escolha.\n"
   ]
  },
  {
   "cell_type": "code",
   "execution_count": 13,
   "id": "1527ad1a",
   "metadata": {},
   "outputs": [
    {
     "data": {
      "image/png": "[encoded data removed]",
      "text/plain": [
       "<Figure size 1000x600 with 1 Axes>"
      ]
     },
     "metadata": {},
     "output_type": "display_data"
    }
   ],
   "source": [
    "df_household_group_by_date = (\n",
    "    df_household.groupby([\"year\", \"Date\"])\n",
    "    .agg({\"Global_active_power\": \"mean\", \"Voltage\": \"mean\"})\n",
    "    .reset_index()\n",
    ")\n",
    "\n",
    "df_household_group_by_date[\"day\"] = df_household_group_by_date[\"Date\"].apply(\n",
    "    lambda x: x.day\n",
    ")\n",
    "\n",
    "# day_consumption = df_household_group_by_date[[\"year\", \"day\", \"Global_active_power\"]]\n",
    "day_consumption = df_household_group_by_date.copy()\n",
    "day_consumption = day_consumption[day_consumption[\"day\"] == 22]\n",
    "\n",
    "# Plotar a tendência de consumo ao longo dos anos\n",
    "plt.figure(figsize=(10, 6))\n",
    "plt.plot(\n",
    "    day_consumption[\"Date\"],\n",
    "    day_consumption[\"Global_active_power\"],\n",
    "    marker=\"o\",\n",
    "    linestyle=\"-\",\n",
    "    color=\"b\",\n",
    ")\n",
    "plt.xlabel(\"Data\")\n",
    "plt.ylabel(\"Active Power (kW)\")\n",
    "plt.title(\"Tendência de Consumo no Dia 22 ao Longo dos Anos\")\n",
    "plt.grid(True)\n",
    "plt.show()\n"
   ]
  },
  {
   "cell_type": "markdown",
   "id": "d0eea0b0",
   "metadata": {},
   "source": [
    "---\n",
    "\n",
    "### 7. Crie um histograma da variável Voltage. O que pode ser observado sobre sua distribuição?"
   ]
  },
  {
   "cell_type": "code",
   "execution_count": 14,
   "id": "45e540a0",
   "metadata": {},
   "outputs": [
    {
     "data": {
      "application/vnd.plotly.v1+json": {
       "config": {
        "plotlyServerURL": "https://plot.ly"
       },
       "data": [
        {
         "hovertemplate": "Date=%{x}<br>Voltage=%{text}<extra></extra>",
         "legendgroup": "",
         "marker": {
          "color": "#636efa",
          "pattern": {
           "shape": ""
          }
         },
         "name": "",
         "orientation": "v",
         "showlegend": false,
         "text": {
          "bdata": "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",
          "dtype": "f8"
         },
         "textposition": "auto",
         "type": "bar",
         "x": [
          "2006-12-16T00:00:00.000000000",
          "2006-12-17T00:00:00.000000000",
          "2006-12-18T00:00:00.000000000",
          "2006-12-19T00:00:00.000000000",
          "2006-12-20T00:00:00.000000000",
          "2006-12-21T00:00:00.000000000",
          "2006-12-22T00:00:00.000000000",
          "2006-12-23T00:00:00.000000000",
          "2006-12-24T00:00:00.000000000",
          "2006-12-25T00:00:00.000000000",
          "2006-12-26T00:00:00.000000000",
          "2006-12-27T00:00:00.000000000",
          "2006-12-28T00:00:00.000000000",
          "2006-12-29T00:00:00.000000000",
          "2006-12-30T00:00:00.000000000",
          "2006-12-31T00:00:00.000000000",
          "2007-01-01T00:00:00.000000000",
          "2007-01-02T00:00:00.000000000",
          "2007-01-03T00:00:00.000000000",
          "2007-01-04T00:00:00.000000000",
          "2007-01-05T00:00:00.000000000",
          "2007-01-06T00:00:00.000000000",
          "2007-01-07T00:00:00.000000000",
          "2007-01-08T00:00:00.000000000",
          "2007-01-09T00:00:00.000000000",
          "2007-01-10T00:00:00.000000000",
          "2007-01-11T00:00:00.000000000",
          "2007-01-12T00:00:00.000000000",
          "2007-01-13T00:00:00.000000000",
          "2007-01-14T00:00:00.000000000",
          "2007-01-15T00:00:00.000000000",
          "2007-01-16T00:00:00.000000000",
          "2007-01-17T00:00:00.000000000",
          "2007-01-18T00:00:00.000000000",
          "2007-01-19T00:00:00.000000000",
          "2007-01-20T00:00:00.000000000",
          "2007-01-21T00:00:00.000000000",
          "2007-01-22T00:00:00.000000000",
          "2007-01-23T00:00:00.000000000",
          "2007-01-24T00:00:00.000000000",
          "2007-01-25T00:00:00.000000000",
          "2007-01-26T00:00:00.000000000",
          "2007-01-27T00:00:00.000000000",
          "2007-01-28T00:00:00.000000000",
          "2007-01-29T00:00:00.000000000",
          "2007-01-30T00:00:00.000000000",
          "2007-01-31T00:00:00.000000000",
          "2007-02-01T00:00:00.000000000",
          "2007-02-02T00:00:00.000000000",
          "2007-02-03T00:00:00.000000000",
          "2007-02-04T00:00:00.000000000",
          "2007-02-05T00:00:00.000000000",
          "2007-02-06T00:00:00.000000000",
          "2007-02-07T00:00:00.000000000",
          "2007-02-08T00:00:00.000000000",
          "2007-02-09T00:00:00.000000000",
          "2007-02-10T00:00:00.000000000",
          "2007-02-11T00:00:00.000000000",
          "2007-02-12T00:00:00.000000000",
          "2007-02-13T00:00:00.000000000",
          "2007-02-14T00:00:00.000000000",
          "2007-02-15T00:00:00.000000000",
          "2007-02-16T00:00:00.000000000",
          "2007-02-17T00:00:00.000000000",
          "2007-02-18T00:00:00.000000000",
          "2007-02-19T00:00:00.000000000",
          "2007-02-20T00:00:00.000000000",
          "2007-02-21T00:00:00.000000000",
          "2007-02-22T00:00:00.000000000",
          "2007-02-23T00:00:00.000000000",
          "2007-02-24T00:00:00.000000000",
          "2007-02-25T00:00:00.000000000",
          "2007-02-26T00:00:00.000000000",
          "2007-02-27T00:00:00.000000000",
          "2007-02-28T00:00:00.000000000",
          "2007-03-01T00:00:00.000000000",
          "2007-03-02T00:00:00.000000000",
          "2007-03-03T00:00:00.000000000",
          "2007-03-04T00:00:00.000000000",
          "2007-03-05T00:00:00.000000000",
          "2007-03-06T00:00:00.000000000",
          "2007-03-07T00:00:00.000000000",
          "2007-03-08T00:00:00.000000000",
          "2007-03-09T00:00:00.000000000",
          "2007-03-10T00:00:00.000000000",
          "2007-03-11T00:00:00.000000000",
          "2007-03-12T00:00:00.000000000",
          "2007-03-13T00:00:00.000000000",
          "2007-03-14T00:00:00.000000000",
          "2007-03-15T00:00:00.000000000",
          "2007-03-16T00:00:00.000000000",
          "2007-03-17T00:00:00.000000000",
          "2007-03-18T00:00:00.000000000",
          "2007-03-19T00:00:00.000000000",
          "2007-03-20T00:00:00.000000000",
          "2007-03-21T00:00:00.000000000",
          "2007-03-22T00:00:00.000000000",
          "2007-03-23T00:00:00.000000000",
          "2007-03-24T00:00:00.000000000",
          "2007-03-25T00:00:00.000000000",
          "2007-03-26T00:00:00.000000000",
          "2007-03-27T00:00:00.000000000",
          "2007-03-28T00:00:00.000000000",
          "2007-03-29T00:00:00.000000000",
          "2007-03-30T00:00:00.000000000",
          "2007-03-31T00:00:00.000000000",
          "2007-04-01T00:00:00.000000000",
          "2007-04-02T00:00:00.000000000",
          "2007-04-03T00:00:00.000000000",
          "2007-04-04T00:00:00.000000000",
          "2007-04-05T00:00:00.000000000",
          "2007-04-06T00:00:00.000000000",
          "2007-04-07T00:00:00.000000000",
          "2007-04-08T00:00:00.000000000",
          "2007-04-09T00:00:00.000000000",
          "2007-04-10T00:00:00.000000000",
          "2007-04-11T00:00:00.000000000",
          "2007-04-12T00:00:00.000000000",
          "2007-04-13T00:00:00.000000000",
          "2007-04-14T00:00:00.000000000",
          "2007-04-15T00:00:00.000000000",
          "2007-04-16T00:00:00.000000000",
          "2007-04-17T00:00:00.000000000",
          "2007-04-18T00:00:00.000000000",
          "2007-04-19T00:00:00.000000000",
          "2007-04-20T00:00:00.000000000",
          "2007-04-21T00:00:00.000000000",
          "2007-04-22T00:00:00.000000000",
          "2007-04-23T00:00:00.000000000",
          "2007-04-24T00:00:00.000000000",
          "2007-04-25T00:00:00.000000000",
          "2007-04-26T00:00:00.000000000",
          "2007-04-27T00:00:00.000000000",
          "2007-04-28T00:00:00.000000000",
          "2007-04-29T00:00:00.000000000",
          "2007-04-30T00:00:00.000000000",
          "2007-05-01T00:00:00.000000000",
          "2007-05-02T00:00:00.000000000",
          "2007-05-03T00:00:00.000000000",
          "2007-05-04T00:00:00.000000000",
          "2007-05-05T00:00:00.000000000",
          "2007-05-06T00:00:00.000000000",
          "2007-05-07T00:00:00.000000000",
          "2007-05-08T00:00:00.000000000",
          "2007-05-09T00:00:00.000000000",
          "2007-05-10T00:00:00.000000000",
          "2007-05-11T00:00:00.000000000",
          "2007-05-12T00:00:00.000000000",
          "2007-05-13T00:00:00.000000000",
          "2007-05-14T00:00:00.000000000",
          "2007-05-15T00:00:00.000000000",
          "2007-05-16T00:00:00.000000000",
          "2007-05-17T00:00:00.000000000",
          "2007-05-18T00:00:00.000000000",
          "2007-05-19T00:00:00.000000000",
          "2007-05-20T00:00:00.000000000",
          "2007-05-21T00:00:00.000000000",
          "2007-05-22T00:00:00.000000000",
          "2007-05-23T00:00:00.000000000",
          "2007-05-24T00:00:00.000000000",
          "2007-05-25T00:00:00.000000000",
          "2007-05-26T00:00:00.000000000",
          "2007-05-27T00:00:00.000000000",
          "2007-05-28T00:00:00.000000000",
          "2007-05-29T00:00:00.000000000",
          "2007-05-30T00:00:00.000000000",
          "2007-05-31T00:00:00.000000000",
          "2007-06-01T00:00:00.000000000",
          "2007-06-02T00:00:00.000000000",
          "2007-06-03T00:00:00.000000000",
          "2007-06-04T00:00:00.000000000",
          "2007-06-05T00:00:00.000000000",
          "2007-06-06T00:00:00.000000000",
          "2007-06-07T00:00:00.000000000",
          "2007-06-08T00:00:00.000000000",
          "2007-06-09T00:00:00.000000000",
          "2007-06-10T00:00:00.000000000",
          "2007-06-11T00:00:00.000000000",
          "2007-06-12T00:00:00.000000000",
          "2007-06-13T00:00:00.000000000",
          "2007-06-14T00:00:00.000000000",
          "2007-06-15T00:00:00.000000000",
          "2007-06-16T00:00:00.000000000",
          "2007-06-17T00:00:00.000000000",
          "2007-06-18T00:00:00.000000000",
          "2007-06-19T00:00:00.000000000",
          "2007-06-20T00:00:00.000000000",
          "2007-06-21T00:00:00.000000000",
          "2007-06-22T00:00:00.000000000",
          "2007-06-23T00:00:00.000000000",
          "2007-06-24T00:00:00.000000000",
          "2007-06-25T00:00:00.000000000",
          "2007-06-26T00:00:00.000000000",
          "2007-06-27T00:00:00.000000000",
          "2007-06-28T00:00:00.000000000",
          "2007-06-29T00:00:00.000000000",
          "2007-06-30T00:00:00.000000000",
          "2007-07-01T00:00:00.000000000",
          "2007-07-02T00:00:00.000000000",
          "2007-07-03T00:00:00.000000000",
          "2007-07-04T00:00:00.000000000",
          "2007-07-05T00:00:00.000000000",
          "2007-07-06T00:00:00.000000000",
          "2007-07-07T00:00:00.000000000",
          "2007-07-08T00:00:00.000000000",
          "2007-07-09T00:00:00.000000000",
          "2007-07-10T00:00:00.000000000",
          "2007-07-11T00:00:00.000000000",
          "2007-07-12T00:00:00.000000000",
          "2007-07-13T00:00:00.000000000",
          "2007-07-14T00:00:00.000000000",
          "2007-07-15T00:00:00.000000000",
          "2007-07-16T00:00:00.000000000",
          "2007-07-17T00:00:00.000000000",
          "2007-07-18T00:00:00.000000000",
          "2007-07-19T00:00:00.000000000",
          "2007-07-20T00:00:00.000000000",
          "2007-07-21T00:00:00.000000000",
          "2007-07-22T00:00:00.000000000",
          "2007-07-23T00:00:00.000000000",
          "2007-07-24T00:00:00.000000000",
          "2007-07-25T00:00:00.000000000",
          "2007-07-26T00:00:00.000000000",
          "2007-07-27T00:00:00.000000000",
          "2007-07-28T00:00:00.000000000",
          "2007-07-29T00:00:00.000000000",
          "2007-07-30T00:00:00.000000000",
          "2007-07-31T00:00:00.000000000",
          "2007-08-01T00:00:00.000000000",
          "2007-08-02T00:00:00.000000000",
          "2007-08-03T00:00:00.000000000",
          "2007-08-04T00:00:00.000000000",
          "2007-08-05T00:00:00.000000000",
          "2007-08-06T00:00:00.000000000",
          "2007-08-07T00:00:00.000000000",
          "2007-08-08T00:00:00.000000000",
          "2007-08-09T00:00:00.000000000",
          "2007-08-10T00:00:00.000000000",
          "2007-08-11T00:00:00.000000000",
          "2007-08-12T00:00:00.000000000",
          "2007-08-13T00:00:00.000000000",
          "2007-08-14T00:00:00.000000000",
          "2007-08-15T00:00:00.000000000",
          "2007-08-16T00:00:00.000000000",
          "2007-08-17T00:00:00.000000000",
          "2007-08-18T00:00:00.000000000",
          "2007-08-19T00:00:00.000000000",
          "2007-08-20T00:00:00.000000000",
          "2007-08-21T00:00:00.000000000",
          "2007-08-22T00:00:00.000000000",
          "2007-08-23T00:00:00.000000000",
          "2007-08-24T00:00:00.000000000",
          "2007-08-25T00:00:00.000000000",
          "2007-08-26T00:00:00.000000000",
          "2007-08-27T00:00:00.000000000",
          "2007-08-28T00:00:00.000000000",
          "2007-08-29T00:00:00.000000000",
          "2007-08-30T00:00:00.000000000",
          "2007-08-31T00:00:00.000000000",
          "2007-09-01T00:00:00.000000000",
          "2007-09-02T00:00:00.000000000",
          "2007-09-03T00:00:00.000000000",
          "2007-09-04T00:00:00.000000000",
          "2007-09-05T00:00:00.000000000",
          "2007-09-06T00:00:00.000000000",
          "2007-09-07T00:00:00.000000000",
          "2007-09-08T00:00:00.000000000",
          "2007-09-09T00:00:00.000000000",
          "2007-09-10T00:00:00.000000000",
          "2007-09-11T00:00:00.000000000",
          "2007-09-12T00:00:00.000000000",
          "2007-09-13T00:00:00.000000000",
          "2007-09-14T00:00:00.000000000",
          "2007-09-15T00:00:00.000000000",
          "2007-09-16T00:00:00.000000000",
          "2007-09-17T00:00:00.000000000",
          "2007-09-18T00:00:00.000000000",
          "2007-09-19T00:00:00.000000000",
          "2007-09-20T00:00:00.000000000",
          "2007-09-21T00:00:00.000000000",
          "2007-09-22T00:00:00.000000000",
          "2007-09-23T00:00:00.000000000",
          "2007-09-24T00:00:00.000000000",
          "2007-09-25T00:00:00.000000000",
          "2007-09-26T00:00:00.000000000",
          "2007-09-27T00:00:00.000000000",
          "2007-09-28T00:00:00.000000000",
          "2007-09-29T00:00:00.000000000",
          "2007-09-30T00:00:00.000000000",
          "2007-10-01T00:00:00.000000000",
          "2007-10-02T00:00:00.000000000",
          "2007-10-03T00:00:00.000000000",
          "2007-10-04T00:00:00.000000000",
          "2007-10-05T00:00:00.000000000",
          "2007-10-06T00:00:00.000000000",
          "2007-10-07T00:00:00.000000000",
          "2007-10-08T00:00:00.000000000",
          "2007-10-09T00:00:00.000000000",
          "2007-10-10T00:00:00.000000000",
          "2007-10-11T00:00:00.000000000",
          "2007-10-12T00:00:00.000000000",
          "2007-10-13T00:00:00.000000000",
          "2007-10-14T00:00:00.000000000",
          "2007-10-15T00:00:00.000000000",
          "2007-10-16T00:00:00.000000000",
          "2007-10-17T00:00:00.000000000",
          "2007-10-18T00:00:00.000000000",
          "2007-10-19T00:00:00.000000000",
          "2007-10-20T00:00:00.000000000",
          "2007-10-21T00:00:00.000000000",
          "2007-10-22T00:00:00.000000000",
          "2007-10-23T00:00:00.000000000",
          "2007-10-24T00:00:00.000000000",
          "2007-10-25T00:00:00.000000000",
          "2007-10-26T00:00:00.000000000",
          "2007-10-27T00:00:00.000000000",
          "2007-10-28T00:00:00.000000000",
          "2007-10-29T00:00:00.000000000",
          "2007-10-30T00:00:00.000000000",
          "2007-10-31T00:00:00.000000000",
          "2007-11-01T00:00:00.000000000",
          "2007-11-02T00:00:00.000000000",
          "2007-11-03T00:00:00.000000000",
          "2007-11-04T00:00:00.000000000",
          "2007-11-05T00:00:00.000000000",
          "2007-11-06T00:00:00.000000000",
          "2007-11-07T00:00:00.000000000",
          "2007-11-08T00:00:00.000000000",
          "2007-11-09T00:00:00.000000000",
          "2007-11-10T00:00:00.000000000",
          "2007-11-11T00:00:00.000000000",
          "2007-11-12T00:00:00.000000000",
          "2007-11-13T00:00:00.000000000",
          "2007-11-14T00:00:00.000000000",
          "2007-11-15T00:00:00.000000000",
          "2007-11-16T00:00:00.000000000",
          "2007-11-17T00:00:00.000000000",
          "2007-11-18T00:00:00.000000000",
          "2007-11-19T00:00:00.000000000",
          "2007-11-20T00:00:00.000000000",
          "2007-11-21T00:00:00.000000000",
          "2007-11-22T00:00:00.000000000",
          "2007-11-23T00:00:00.000000000",
          "2007-11-24T00:00:00.000000000",
          "2007-11-25T00:00:00.000000000",
          "2007-11-26T00:00:00.000000000",
          "2007-11-27T00:00:00.000000000",
          "2007-11-28T00:00:00.000000000",
          "2007-11-29T00:00:00.000000000",
          "2007-11-30T00:00:00.000000000",
          "2007-12-01T00:00:00.000000000",
          "2007-12-02T00:00:00.000000000",
          "2007-12-03T00:00:00.000000000",
          "2007-12-04T00:00:00.000000000",
          "2007-12-05T00:00:00.000000000",
          "2007-12-06T00:00:00.000000000",
          "2007-12-07T00:00:00.000000000",
          "2007-12-08T00:00:00.000000000",
          "2007-12-09T00:00:00.000000000",
          "2007-12-10T00:00:00.000000000",
          "2007-12-11T00:00:00.000000000",
          "2007-12-12T00:00:00.000000000",
          "2007-12-13T00:00:00.000000000",
          "2007-12-14T00:00:00.000000000",
          "2007-12-15T00:00:00.000000000",
          "2007-12-16T00:00:00.000000000",
          "2007-12-17T00:00:00.000000000",
          "2007-12-18T00:00:00.000000000",
          "2007-12-19T00:00:00.000000000",
          "2007-12-20T00:00:00.000000000",
          "2007-12-21T00:00:00.000000000",
          "2007-12-22T00:00:00.000000000",
          "2007-12-23T00:00:00.000000000",
          "2007-12-24T00:00:00.000000000",
          "2007-12-25T00:00:00.000000000",
          "2007-12-26T00:00:00.000000000",
          "2007-12-27T00:00:00.000000000",
          "2007-12-28T00:00:00.000000000",
          "2007-12-29T00:00:00.000000000",
          "2007-12-30T00:00:00.000000000",
          "2007-12-31T00:00:00.000000000",
          "2008-01-01T00:00:00.000000000",
          "2008-01-02T00:00:00.000000000",
          "2008-01-03T00:00:00.000000000",
          "2008-01-04T00:00:00.000000000",
          "2008-01-05T00:00:00.000000000",
          "2008-01-06T00:00:00.000000000",
          "2008-01-07T00:00:00.000000000",
          "2008-01-08T00:00:00.000000000",
          "2008-01-09T00:00:00.000000000",
          "2008-01-10T00:00:00.000000000",
          "2008-01-11T00:00:00.000000000",
          "2008-01-12T00:00:00.000000000",
          "2008-01-13T00:00:00.000000000",
          "2008-01-14T00:00:00.000000000",
          "2008-01-15T00:00:00.000000000",
          "2008-01-16T00:00:00.000000000",
          "2008-01-17T00:00:00.000000000",
          "2008-01-18T00:00:00.000000000",
          "2008-01-19T00:00:00.000000000",
          "2008-01-20T00:00:00.000000000",
          "2008-01-21T00:00:00.000000000",
          "2008-01-22T00:00:00.000000000",
          "2008-01-23T00:00:00.000000000",
          "2008-01-24T00:00:00.000000000",
          "2008-01-25T00:00:00.000000000",
          "2008-01-26T00:00:00.000000000",
          "2008-01-27T00:00:00.000000000",
          "2008-01-28T00:00:00.000000000",
          "2008-01-29T00:00:00.000000000",
          "2008-01-30T00:00:00.000000000",
          "2008-01-31T00:00:00.000000000",
          "2008-02-01T00:00:00.000000000",
          "2008-02-02T00:00:00.000000000",
          "2008-02-03T00:00:00.000000000",
          "2008-02-04T00:00:00.000000000",
          "2008-02-05T00:00:00.000000000",
          "2008-02-06T00:00:00.000000000",
          "2008-02-07T00:00:00.000000000",
          "2008-02-08T00:00:00.000000000",
          "2008-02-09T00:00:00.000000000",
          "2008-02-10T00:00:00.000000000",
          "2008-02-11T00:00:00.000000000",
          "2008-02-12T00:00:00.000000000",
          "2008-02-13T00:00:00.000000000",
          "2008-02-14T00:00:00.000000000",
          "2008-02-15T00:00:00.000000000",
          "2008-02-16T00:00:00.000000000",
          "2008-02-17T00:00:00.000000000",
          "2008-02-18T00:00:00.000000000",
          "2008-02-19T00:00:00.000000000",
          "2008-02-20T00:00:00.000000000",
          "2008-02-21T00:00:00.000000000",
          "2008-02-22T00:00:00.000000000",
          "2008-02-23T00:00:00.000000000",
          "2008-02-24T00:00:00.000000000",
          "2008-02-25T00:00:00.000000000",
          "2008-02-26T00:00:00.000000000",
          "2008-02-27T00:00:00.000000000",
          "2008-02-28T00:00:00.000000000",
          "2008-02-29T00:00:00.000000000",
          "2008-03-01T00:00:00.000000000",
          "2008-03-02T00:00:00.000000000",
          "2008-03-03T00:00:00.000000000",
          "2008-03-04T00:00:00.000000000",
          "2008-03-05T00:00:00.000000000",
          "2008-03-06T00:00:00.000000000",
          "2008-03-07T00:00:00.000000000",
          "2008-03-08T00:00:00.000000000",
          "2008-03-09T00:00:00.000000000",
          "2008-03-10T00:00:00.000000000",
          "2008-03-11T00:00:00.000000000",
          "2008-03-12T00:00:00.000000000",
          "2008-03-13T00:00:00.000000000",
          "2008-03-14T00:00:00.000000000",
          "2008-03-15T00:00:00.000000000",
          "2008-03-16T00:00:00.000000000",
          "2008-03-17T00:00:00.000000000",
          "2008-03-18T00:00:00.000000000",
          "2008-03-19T00:00:00.000000000",
          "2008-03-20T00:00:00.000000000",
          "2008-03-21T00:00:00.000000000",
          "2008-03-22T00:00:00.000000000",
          "2008-03-23T00:00:00.000000000",
          "2008-03-24T00:00:00.000000000",
          "2008-03-25T00:00:00.000000000",
          "2008-03-26T00:00:00.000000000",
          "2008-03-27T00:00:00.000000000",
          "2008-03-28T00:00:00.000000000",
          "2008-03-29T00:00:00.000000000",
          "2008-03-30T00:00:00.000000000",
          "2008-03-31T00:00:00.000000000",
          "2008-04-01T00:00:00.000000000",
          "2008-04-02T00:00:00.000000000",
          "2008-04-03T00:00:00.000000000",
          "2008-04-04T00:00:00.000000000",
          "2008-04-05T00:00:00.000000000",
          "2008-04-06T00:00:00.000000000",
          "2008-04-07T00:00:00.000000000",
          "2008-04-08T00:00:00.000000000",
          "2008-04-09T00:00:00.000000000",
          "2008-04-10T00:00:00.000000000",
          "2008-04-11T00:00:00.000000000",
          "2008-04-12T00:00:00.000000000",
          "2008-04-13T00:00:00.000000000",
          "2008-04-14T00:00:00.000000000",
          "2008-04-15T00:00:00.000000000",
          "2008-04-16T00:00:00.000000000",
          "2008-04-17T00:00:00.000000000",
          "2008-04-18T00:00:00.000000000",
          "2008-04-19T00:00:00.000000000",
          "2008-04-20T00:00:00.000000000",
          "2008-04-21T00:00:00.000000000",
          "2008-04-22T00:00:00.000000000",
          "2008-04-23T00:00:00.000000000",
          "2008-04-24T00:00:00.000000000",
          "2008-04-25T00:00:00.000000000",
          "2008-04-26T00:00:00.000000000",
          "2008-04-27T00:00:00.000000000",
          "2008-04-28T00:00:00.000000000",
          "2008-04-29T00:00:00.000000000",
          "2008-04-30T00:00:00.000000000",
          "2008-05-01T00:00:00.000000000",
          "2008-05-02T00:00:00.000000000",
          "2008-05-03T00:00:00.000000000",
          "2008-05-04T00:00:00.000000000",
          "2008-05-05T00:00:00.000000000",
          "2008-05-06T00:00:00.000000000",
          "2008-05-07T00:00:00.000000000",
          "2008-05-08T00:00:00.000000000",
          "2008-05-09T00:00:00.000000000",
          "2008-05-10T00:00:00.000000000",
          "2008-05-11T00:00:00.000000000",
          "2008-05-12T00:00:00.000000000",
          "2008-05-13T00:00:00.000000000",
          "2008-05-14T00:00:00.000000000",
          "2008-05-15T00:00:00.000000000",
          "2008-05-16T00:00:00.000000000",
          "2008-05-17T00:00:00.000000000",
          "2008-05-18T00:00:00.000000000",
          "2008-05-19T00:00:00.000000000",
          "2008-05-20T00:00:00.000000000",
          "2008-05-21T00:00:00.000000000",
          "2008-05-22T00:00:00.000000000",
          "2008-05-23T00:00:00.000000000",
          "2008-05-24T00:00:00.000000000",
          "2008-05-25T00:00:00.000000000",
          "2008-05-26T00:00:00.000000000",
          "2008-05-27T00:00:00.000000000",
          "2008-05-28T00:00:00.000000000",
          "2008-05-29T00:00:00.000000000",
          "2008-05-30T00:00:00.000000000",
          "2008-05-31T00:00:00.000000000",
          "2008-06-01T00:00:00.000000000",
          "2008-06-02T00:00:00.000000000",
          "2008-06-03T00:00:00.000000000",
          "2008-06-04T00:00:00.000000000",
          "2008-06-05T00:00:00.000000000",
          "2008-06-06T00:00:00.000000000",
          "2008-06-07T00:00:00.000000000",
          "2008-06-08T00:00:00.000000000",
          "2008-06-09T00:00:00.000000000",
          "2008-06-10T00:00:00.000000000",
          "2008-06-11T00:00:00.000000000",
          "2008-06-12T00:00:00.000000000",
          "2008-06-13T00:00:00.000000000",
          "2008-06-14T00:00:00.000000000",
          "2008-06-15T00:00:00.000000000",
          "2008-06-16T00:00:00.000000000",
          "2008-06-17T00:00:00.000000000",
          "2008-06-18T00:00:00.000000000",
          "2008-06-19T00:00:00.000000000",
          "2008-06-20T00:00:00.000000000",
          "2008-06-21T00:00:00.000000000",
          "2008-06-22T00:00:00.000000000",
          "2008-06-23T00:00:00.000000000",
          "2008-06-24T00:00:00.000000000",
          "2008-06-25T00:00:00.000000000",
          "2008-06-26T00:00:00.000000000",
          "2008-06-27T00:00:00.000000000",
          "2008-06-28T00:00:00.000000000",
          "2008-06-29T00:00:00.000000000",
          "2008-06-30T00:00:00.000000000",
          "2008-07-01T00:00:00.000000000",
          "2008-07-02T00:00:00.000000000",
          "2008-07-03T00:00:00.000000000",
          "2008-07-04T00:00:00.000000000",
          "2008-07-05T00:00:00.000000000",
          "2008-07-06T00:00:00.000000000",
          "2008-07-07T00:00:00.000000000",
          "2008-07-08T00:00:00.000000000",
          "2008-07-09T00:00:00.000000000",
          "2008-07-10T00:00:00.000000000",
          "2008-07-11T00:00:00.000000000",
          "2008-07-12T00:00:00.000000000",
          "2008-07-13T00:00:00.000000000",
          "2008-07-14T00:00:00.000000000",
          "2008-07-15T00:00:00.000000000",
          "2008-07-16T00:00:00.000000000",
          "2008-07-17T00:00:00.000000000",
          "2008-07-18T00:00:00.000000000",
          "2008-07-19T00:00:00.000000000",
          "2008-07-20T00:00:00.000000000",
          "2008-07-21T00:00:00.000000000",
          "2008-07-22T00:00:00.000000000",
          "2008-07-23T00:00:00.000000000",
          "2008-07-24T00:00:00.000000000",
          "2008-07-25T00:00:00.000000000",
          "2008-07-26T00:00:00.000000000",
          "2008-07-27T00:00:00.000000000",
          "2008-07-28T00:00:00.000000000",
          "2008-07-29T00:00:00.000000000",
          "2008-07-30T00:00:00.000000000",
          "2008-07-31T00:00:00.000000000",
          "2008-08-01T00:00:00.000000000",
          "2008-08-02T00:00:00.000000000",
          "2008-08-03T00:00:00.000000000",
          "2008-08-04T00:00:00.000000000",
          "2008-08-05T00:00:00.000000000",
          "2008-08-06T00:00:00.000000000",
          "2008-08-07T00:00:00.000000000",
          "2008-08-08T00:00:00.000000000",
          "2008-08-09T00:00:00.000000000",
          "2008-08-10T00:00:00.000000000",
          "2008-08-11T00:00:00.000000000",
          "2008-08-12T00:00:00.000000000",
          "2008-08-13T00:00:00.000000000",
          "2008-08-14T00:00:00.000000000",
          "2008-08-15T00:00:00.000000000",
          "2008-08-16T00:00:00.000000000",
          "2008-08-17T00:00:00.000000000",
          "2008-08-18T00:00:00.000000000",
          "2008-08-19T00:00:00.000000000",
          "2008-08-20T00:00:00.000000000",
          "2008-08-21T00:00:00.000000000",
          "2008-08-22T00:00:00.000000000",
          "2008-08-23T00:00:00.000000000",
          "2008-08-24T00:00:00.000000000",
          "2008-08-25T00:00:00.000000000",
          "2008-08-26T00:00:00.000000000",
          "2008-08-27T00:00:00.000000000",
          "2008-08-28T00:00:00.000000000",
          "2008-08-29T00:00:00.000000000",
          "2008-08-30T00:00:00.000000000",
          "2008-08-31T00:00:00.000000000",
          "2008-09-01T00:00:00.000000000",
          "2008-09-02T00:00:00.000000000",
          "2008-09-03T00:00:00.000000000",
          "2008-09-04T00:00:00.000000000",
          "2008-09-05T00:00:00.000000000",
          "2008-09-06T00:00:00.000000000",
          "2008-09-07T00:00:00.000000000",
          "2008-09-08T00:00:00.000000000",
          "2008-09-09T00:00:00.000000000",
          "2008-09-10T00:00:00.000000000",
          "2008-09-11T00:00:00.000000000",
          "2008-09-12T00:00:00.000000000",
          "2008-09-13T00:00:00.000000000",
          "2008-09-14T00:00:00.000000000",
          "2008-09-15T00:00:00.000000000",
          "2008-09-16T00:00:00.000000000",
          "2008-09-17T00:00:00.000000000",
          "2008-09-18T00:00:00.000000000",
          "2008-09-19T00:00:00.000000000",
          "2008-09-20T00:00:00.000000000",
          "2008-09-21T00:00:00.000000000",
          "2008-09-22T00:00:00.000000000",
          "2008-09-23T00:00:00.000000000",
          "2008-09-24T00:00:00.000000000",
          "2008-09-25T00:00:00.000000000",
          "2008-09-26T00:00:00.000000000",
          "2008-09-27T00:00:00.000000000",
          "2008-09-28T00:00:00.000000000",
          "2008-09-29T00:00:00.000000000",
          "2008-09-30T00:00:00.000000000",
          "2008-10-01T00:00:00.000000000",
          "2008-10-02T00:00:00.000000000",
          "2008-10-03T00:00:00.000000000",
          "2008-10-04T00:00:00.000000000",
          "2008-10-05T00:00:00.000000000",
          "2008-10-06T00:00:00.000000000",
          "2008-10-07T00:00:00.000000000",
          "2008-10-08T00:00:00.000000000",
          "2008-10-09T00:00:00.000000000",
          "2008-10-10T00:00:00.000000000",
          "2008-10-11T00:00:00.000000000",
          "2008-10-12T00:00:00.000000000",
          "2008-10-13T00:00:00.000000000",
          "2008-10-14T00:00:00.000000000",
          "2008-10-15T00:00:00.000000000",
          "2008-10-16T00:00:00.000000000",
          "2008-10-17T00:00:00.000000000",
          "2008-10-18T00:00:00.000000000",
          "2008-10-19T00:00:00.000000000",
          "2008-10-20T00:00:00.000000000",
          "2008-10-21T00:00:00.000000000",
          "2008-10-22T00:00:00.000000000",
          "2008-10-23T00:00:00.000000000",
          "2008-10-24T00:00:00.000000000",
          "2008-10-25T00:00:00.000000000",
          "2008-10-26T00:00:00.000000000",
          "2008-10-27T00:00:00.000000000",
          "2008-10-28T00:00:00.000000000",
          "2008-10-29T00:00:00.000000000",
          "2008-10-30T00:00:00.000000000",
          "2008-10-31T00:00:00.000000000",
          "2008-11-01T00:00:00.000000000",
          "2008-11-02T00:00:00.000000000",
          "2008-11-03T00:00:00.000000000",
          "2008-11-04T00:00:00.000000000",
          "2008-11-05T00:00:00.000000000",
          "2008-11-06T00:00:00.000000000",
          "2008-11-07T00:00:00.000000000",
          "2008-11-08T00:00:00.000000000",
          "2008-11-09T00:00:00.000000000",
          "2008-11-10T00:00:00.000000000",
          "2008-11-11T00:00:00.000000000",
          "2008-11-12T00:00:00.000000000",
          "2008-11-13T00:00:00.000000000",
          "2008-11-14T00:00:00.000000000",
          "2008-11-15T00:00:00.000000000",
          "2008-11-16T00:00:00.000000000",
          "2008-11-17T00:00:00.000000000",
          "2008-11-18T00:00:00.000000000",
          "2008-11-19T00:00:00.000000000",
          "2008-11-20T00:00:00.000000000",
          "2008-11-21T00:00:00.000000000",
          "2008-11-22T00:00:00.000000000",
          "2008-11-23T00:00:00.000000000",
          "2008-11-24T00:00:00.000000000",
          "2008-11-25T00:00:00.000000000",
          "2008-11-26T00:00:00.000000000",
          "2008-11-27T00:00:00.000000000",
          "2008-11-28T00:00:00.000000000",
          "2008-11-29T00:00:00.000000000",
          "2008-11-30T00:00:00.000000000",
          "2008-12-01T00:00:00.000000000",
          "2008-12-02T00:00:00.000000000",
          "2008-12-03T00:00:00.000000000",
          "2008-12-04T00:00:00.000000000",
          "2008-12-05T00:00:00.000000000",
          "2008-12-06T00:00:00.000000000",
          "2008-12-07T00:00:00.000000000",
          "2008-12-08T00:00:00.000000000",
          "2008-12-09T00:00:00.000000000",
          "2008-12-10T00:00:00.000000000",
          "2008-12-11T00:00:00.000000000",
          "2008-12-12T00:00:00.000000000",
          "2008-12-13T00:00:00.000000000",
          "2008-12-14T00:00:00.000000000",
          "2008-12-15T00:00:00.000000000",
          "2008-12-16T00:00:00.000000000",
          "2008-12-17T00:00:00.000000000",
          "2008-12-18T00:00:00.000000000",
          "2008-12-19T00:00:00.000000000",
          "2008-12-20T00:00:00.000000000",
          "2008-12-21T00:00:00.000000000",
          "2008-12-22T00:00:00.000000000",
          "2008-12-23T00:00:00.000000000",
          "2008-12-24T00:00:00.000000000",
          "2008-12-25T00:00:00.000000000",
          "2008-12-26T00:00:00.000000000",
          "2008-12-27T00:00:00.000000000",
          "2008-12-28T00:00:00.000000000",
          "2008-12-29T00:00:00.000000000",
          "2008-12-30T00:00:00.000000000",
          "2008-12-31T00:00:00.000000000",
          "2009-01-01T00:00:00.000000000",
          "2009-01-02T00:00:00.000000000",
          "2009-01-03T00:00:00.000000000",
          "2009-01-04T00:00:00.000000000",
          "2009-01-05T00:00:00.000000000",
          "2009-01-06T00:00:00.000000000",
          "2009-01-07T00:00:00.000000000",
          "2009-01-08T00:00:00.000000000",
          "2009-01-09T00:00:00.000000000",
          "2009-01-10T00:00:00.000000000",
          "2009-01-11T00:00:00.000000000",
          "2009-01-12T00:00:00.000000000",
          "2009-01-13T00:00:00.000000000",
          "2009-01-14T00:00:00.000000000",
          "2009-01-15T00:00:00.000000000",
          "2009-01-16T00:00:00.000000000",
          "2009-01-17T00:00:00.000000000",
          "2009-01-18T00:00:00.000000000",
          "2009-01-19T00:00:00.000000000",
          "2009-01-20T00:00:00.000000000",
          "2009-01-21T00:00:00.000000000",
          "2009-01-22T00:00:00.000000000",
          "2009-01-23T00:00:00.000000000",
          "2009-01-24T00:00:00.000000000",
          "2009-01-25T00:00:00.000000000",
          "2009-01-26T00:00:00.000000000",
          "2009-01-27T00:00:00.000000000",
          "2009-01-28T00:00:00.000000000",
          "2009-01-29T00:00:00.000000000",
          "2009-01-30T00:00:00.000000000",
          "2009-01-31T00:00:00.000000000",
          "2009-02-01T00:00:00.000000000",
          "2009-02-02T00:00:00.000000000",
          "2009-02-03T00:00:00.000000000",
          "2009-02-04T00:00:00.000000000",
          "2009-02-05T00:00:00.000000000",
          "2009-02-06T00:00:00.000000000",
          "2009-02-07T00:00:00.000000000",
          "2009-02-08T00:00:00.000000000",
          "2009-02-09T00:00:00.000000000",
          "2009-02-10T00:00:00.000000000",
          "2009-02-11T00:00:00.000000000",
          "2009-02-12T00:00:00.000000000",
          "2009-02-13T00:00:00.000000000",
          "2009-02-14T00:00:00.000000000",
          "2009-02-15T00:00:00.000000000",
          "2009-02-16T00:00:00.000000000",
          "2009-02-17T00:00:00.000000000",
          "2009-02-18T00:00:00.000000000",
          "2009-02-19T00:00:00.000000000",
          "2009-02-20T00:00:00.000000000",
          "2009-02-21T00:00:00.000000000",
          "2009-02-22T00:00:00.000000000",
          "2009-02-23T00:00:00.000000000",
          "2009-02-24T00:00:00.000000000",
          "2009-02-25T00:00:00.000000000",
          "2009-02-26T00:00:00.000000000",
          "2009-02-27T00:00:00.000000000",
          "2009-02-28T00:00:00.000000000",
          "2009-03-01T00:00:00.000000000",
          "2009-03-02T00:00:00.000000000",
          "2009-03-03T00:00:00.000000000",
          "2009-03-04T00:00:00.000000000",
          "2009-03-05T00:00:00.000000000",
          "2009-03-06T00:00:00.000000000",
          "2009-03-07T00:00:00.000000000",
          "2009-03-08T00:00:00.000000000",
          "2009-03-09T00:00:00.000000000",
          "2009-03-10T00:00:00.000000000",
          "2009-03-11T00:00:00.000000000",
          "2009-03-12T00:00:00.000000000",
          "2009-03-13T00:00:00.000000000",
          "2009-03-14T00:00:00.000000000",
          "2009-03-15T00:00:00.000000000",
          "2009-03-16T00:00:00.000000000",
          "2009-03-17T00:00:00.000000000",
          "2009-03-18T00:00:00.000000000",
          "2009-03-19T00:00:00.000000000",
          "2009-03-20T00:00:00.000000000",
          "2009-03-21T00:00:00.000000000",
          "2009-03-22T00:00:00.000000000",
          "2009-03-23T00:00:00.000000000",
          "2009-03-24T00:00:00.000000000",
          "2009-03-25T00:00:00.000000000",
          "2009-03-26T00:00:00.000000000",
          "2009-03-27T00:00:00.000000000",
          "2009-03-28T00:00:00.000000000",
          "2009-03-29T00:00:00.000000000",
          "2009-03-30T00:00:00.000000000",
          "2009-03-31T00:00:00.000000000",
          "2009-04-01T00:00:00.000000000",
          "2009-04-02T00:00:00.000000000",
          "2009-04-03T00:00:00.000000000",
          "2009-04-04T00:00:00.000000000",
          "2009-04-05T00:00:00.000000000",
          "2009-04-06T00:00:00.000000000",
          "2009-04-07T00:00:00.000000000",
          "2009-04-08T00:00:00.000000000",
          "2009-04-09T00:00:00.000000000",
          "2009-04-10T00:00:00.000000000",
          "2009-04-11T00:00:00.000000000",
          "2009-04-12T00:00:00.000000000",
          "2009-04-13T00:00:00.000000000",
          "2009-04-14T00:00:00.000000000",
          "2009-04-15T00:00:00.000000000",
          "2009-04-16T00:00:00.000000000",
          "2009-04-17T00:00:00.000000000",
          "2009-04-18T00:00:00.000000000",
          "2009-04-19T00:00:00.000000000",
          "2009-04-20T00:00:00.000000000",
          "2009-04-21T00:00:00.000000000",
          "2009-04-22T00:00:00.000000000",
          "2009-04-23T00:00:00.000000000",
          "2009-04-24T00:00:00.000000000",
          "2009-04-25T00:00:00.000000000",
          "2009-04-26T00:00:00.000000000",
          "2009-04-27T00:00:00.000000000",
          "2009-04-28T00:00:00.000000000",
          "2009-04-29T00:00:00.000000000",
          "2009-04-30T00:00:00.000000000",
          "2009-05-01T00:00:00.000000000",
          "2009-05-02T00:00:00.000000000",
          "2009-05-03T00:00:00.000000000",
          "2009-05-04T00:00:00.000000000",
          "2009-05-05T00:00:00.000000000",
          "2009-05-06T00:00:00.000000000",
          "2009-05-07T00:00:00.000000000",
          "2009-05-08T00:00:00.000000000",
          "2009-05-09T00:00:00.000000000",
          "2009-05-10T00:00:00.000000000",
          "2009-05-11T00:00:00.000000000",
          "2009-05-12T00:00:00.000000000",
          "2009-05-13T00:00:00.000000000",
          "2009-05-14T00:00:00.000000000",
          "2009-05-15T00:00:00.000000000",
          "2009-05-16T00:00:00.000000000",
          "2009-05-17T00:00:00.000000000",
          "2009-05-18T00:00:00.000000000",
          "2009-05-19T00:00:00.000000000",
          "2009-05-20T00:00:00.000000000",
          "2009-05-21T00:00:00.000000000",
          "2009-05-22T00:00:00.000000000",
          "2009-05-23T00:00:00.000000000",
          "2009-05-24T00:00:00.000000000",
          "2009-05-25T00:00:00.000000000",
          "2009-05-26T00:00:00.000000000",
          "2009-05-27T00:00:00.000000000",
          "2009-05-28T00:00:00.000000000",
          "2009-05-29T00:00:00.000000000",
          "2009-05-30T00:00:00.000000000",
          "2009-05-31T00:00:00.000000000",
          "2009-06-01T00:00:00.000000000",
          "2009-06-02T00:00:00.000000000",
          "2009-06-03T00:00:00.000000000",
          "2009-06-04T00:00:00.000000000",
          "2009-06-05T00:00:00.000000000",
          "2009-06-06T00:00:00.000000000",
          "2009-06-07T00:00:00.000000000",
          "2009-06-08T00:00:00.000000000",
          "2009-06-09T00:00:00.000000000",
          "2009-06-10T00:00:00.000000000",
          "2009-06-11T00:00:00.000000000",
          "2009-06-12T00:00:00.000000000",
          "2009-06-13T00:00:00.000000000",
          "2009-06-14T00:00:00.000000000",
          "2009-06-15T00:00:00.000000000",
          "2009-06-16T00:00:00.000000000",
          "2009-06-17T00:00:00.000000000",
          "2009-06-18T00:00:00.000000000",
          "2009-06-19T00:00:00.000000000",
          "2009-06-20T00:00:00.000000000",
          "2009-06-21T00:00:00.000000000",
          "2009-06-22T00:00:00.000000000",
          "2009-06-23T00:00:00.000000000",
          "2009-06-24T00:00:00.000000000",
          "2009-06-25T00:00:00.000000000",
          "2009-06-26T00:00:00.000000000",
          "2009-06-27T00:00:00.000000000",
          "2009-06-28T00:00:00.000000000",
          "2009-06-29T00:00:00.000000000",
          "2009-06-30T00:00:00.000000000",
          "2009-07-01T00:00:00.000000000",
          "2009-07-02T00:00:00.000000000",
          "2009-07-03T00:00:00.000000000",
          "2009-07-04T00:00:00.000000000",
          "2009-07-05T00:00:00.000000000",
          "2009-07-06T00:00:00.000000000",
          "2009-07-07T00:00:00.000000000",
          "2009-07-08T00:00:00.000000000",
          "2009-07-09T00:00:00.000000000",
          "2009-07-10T00:00:00.000000000",
          "2009-07-11T00:00:00.000000000",
          "2009-07-12T00:00:00.000000000",
          "2009-07-13T00:00:00.000000000",
          "2009-07-14T00:00:00.000000000",
          "2009-07-15T00:00:00.000000000",
          "2009-07-16T00:00:00.000000000",
          "2009-07-17T00:00:00.000000000",
          "2009-07-18T00:00:00.000000000",
          "2009-07-19T00:00:00.000000000",
          "2009-07-20T00:00:00.000000000",
          "2009-07-21T00:00:00.000000000",
          "2009-07-22T00:00:00.000000000",
          "2009-07-23T00:00:00.000000000",
          "2009-07-24T00:00:00.000000000",
          "2009-07-25T00:00:00.000000000",
          "2009-07-26T00:00:00.000000000",
          "2009-07-27T00:00:00.000000000",
          "2009-07-28T00:00:00.000000000",
          "2009-07-29T00:00:00.000000000",
          "2009-07-30T00:00:00.000000000",
          "2009-07-31T00:00:00.000000000",
          "2009-08-01T00:00:00.000000000",
          "2009-08-02T00:00:00.000000000",
          "2009-08-03T00:00:00.000000000",
          "2009-08-04T00:00:00.000000000",
          "2009-08-05T00:00:00.000000000",
          "2009-08-06T00:00:00.000000000",
          "2009-08-07T00:00:00.000000000",
          "2009-08-08T00:00:00.000000000",
          "2009-08-09T00:00:00.000000000",
          "2009-08-10T00:00:00.000000000",
          "2009-08-11T00:00:00.000000000",
          "2009-08-12T00:00:00.000000000",
          "2009-08-13T00:00:00.000000000",
          "2009-08-14T00:00:00.000000000",
          "2009-08-15T00:00:00.000000000",
          "2009-08-16T00:00:00.000000000",
          "2009-08-17T00:00:00.000000000",
          "2009-08-18T00:00:00.000000000",
          "2009-08-19T00:00:00.000000000",
          "2009-08-20T00:00:00.000000000",
          "2009-08-21T00:00:00.000000000",
          "2009-08-22T00:00:00.000000000",
          "2009-08-23T00:00:00.000000000",
          "2009-08-24T00:00:00.000000000",
          "2009-08-25T00:00:00.000000000",
          "2009-08-26T00:00:00.000000000",
          "2009-08-27T00:00:00.000000000",
          "2009-08-28T00:00:00.000000000",
          "2009-08-29T00:00:00.000000000",
          "2009-08-30T00:00:00.000000000",
          "2009-08-31T00:00:00.000000000",
          "2009-09-01T00:00:00.000000000",
          "2009-09-02T00:00:00.000000000",
          "2009-09-03T00:00:00.000000000",
          "2009-09-04T00:00:00.000000000",
          "2009-09-05T00:00:00.000000000",
          "2009-09-06T00:00:00.000000000",
          "2009-09-07T00:00:00.000000000",
          "2009-09-08T00:00:00.000000000",
          "2009-09-09T00:00:00.000000000",
          "2009-09-10T00:00:00.000000000",
          "2009-09-11T00:00:00.000000000",
          "2009-09-12T00:00:00.000000000",
          "2009-09-13T00:00:00.000000000",
          "2009-09-14T00:00:00.000000000",
          "2009-09-15T00:00:00.000000000",
          "2009-09-16T00:00:00.000000000",
          "2009-09-17T00:00:00.000000000",
          "2009-09-18T00:00:00.000000000",
          "2009-09-19T00:00:00.000000000",
          "2009-09-20T00:00:00.000000000",
          "2009-09-21T00:00:00.000000000",
          "2009-09-22T00:00:00.000000000",
          "2009-09-23T00:00:00.000000000",
          "2009-09-24T00:00:00.000000000",
          "2009-09-25T00:00:00.000000000",
          "2009-09-26T00:00:00.000000000",
          "2009-09-27T00:00:00.000000000",
          "2009-09-28T00:00:00.000000000",
          "2009-09-29T00:00:00.000000000",
          "2009-09-30T00:00:00.000000000",
          "2009-10-01T00:00:00.000000000",
          "2009-10-02T00:00:00.000000000",
          "2009-10-03T00:00:00.000000000",
          "2009-10-04T00:00:00.000000000",
          "2009-10-05T00:00:00.000000000",
          "2009-10-06T00:00:00.000000000",
          "2009-10-07T00:00:00.000000000",
          "2009-10-08T00:00:00.000000000",
          "2009-10-09T00:00:00.000000000",
          "2009-10-10T00:00:00.000000000",
          "2009-10-11T00:00:00.000000000",
          "2009-10-12T00:00:00.000000000",
          "2009-10-13T00:00:00.000000000",
          "2009-10-14T00:00:00.000000000",
          "2009-10-15T00:00:00.000000000",
          "2009-10-16T00:00:00.000000000",
          "2009-10-17T00:00:00.000000000",
          "2009-10-18T00:00:00.000000000",
          "2009-10-19T00:00:00.000000000",
          "2009-10-20T00:00:00.000000000",
          "2009-10-21T00:00:00.000000000",
          "2009-10-22T00:00:00.000000000",
          "2009-10-23T00:00:00.000000000",
          "2009-10-24T00:00:00.000000000",
          "2009-10-25T00:00:00.000000000",
          "2009-10-26T00:00:00.000000000",
          "2009-10-27T00:00:00.000000000",
          "2009-10-28T00:00:00.000000000",
          "2009-10-29T00:00:00.000000000",
          "2009-10-30T00:00:00.000000000",
          "2009-10-31T00:00:00.000000000",
          "2009-11-01T00:00:00.000000000",
          "2009-11-02T00:00:00.000000000",
          "2009-11-03T00:00:00.000000000",
          "2009-11-04T00:00:00.000000000",
          "2009-11-05T00:00:00.000000000",
          "2009-11-06T00:00:00.000000000",
          "2009-11-07T00:00:00.000000000",
          "2009-11-08T00:00:00.000000000",
          "2009-11-09T00:00:00.000000000",
          "2009-11-10T00:00:00.000000000",
          "2009-11-11T00:00:00.000000000",
          "2009-11-12T00:00:00.000000000",
          "2009-11-13T00:00:00.000000000",
          "2009-11-14T00:00:00.000000000",
          "2009-11-15T00:00:00.000000000",
          "2009-11-16T00:00:00.000000000",
          "2009-11-17T00:00:00.000000000",
          "2009-11-18T00:00:00.000000000",
          "2009-11-19T00:00:00.000000000",
          "2009-11-20T00:00:00.000000000",
          "2009-11-21T00:00:00.000000000",
          "2009-11-22T00:00:00.000000000",
          "2009-11-23T00:00:00.000000000",
          "2009-11-24T00:00:00.000000000",
          "2009-11-25T00:00:00.000000000",
          "2009-11-26T00:00:00.000000000",
          "2009-11-27T00:00:00.000000000",
          "2009-11-28T00:00:00.000000000",
          "2009-11-29T00:00:00.000000000",
          "2009-11-30T00:00:00.000000000",
          "2009-12-01T00:00:00.000000000",
          "2009-12-02T00:00:00.000000000",
          "2009-12-03T00:00:00.000000000",
          "2009-12-04T00:00:00.000000000",
          "2009-12-05T00:00:00.000000000",
          "2009-12-06T00:00:00.000000000",
          "2009-12-07T00:00:00.000000000",
          "2009-12-08T00:00:00.000000000",
          "2009-12-09T00:00:00.000000000",
          "2009-12-10T00:00:00.000000000",
          "2009-12-11T00:00:00.000000000",
          "2009-12-12T00:00:00.000000000",
          "2009-12-13T00:00:00.000000000",
          "2009-12-14T00:00:00.000000000",
          "2009-12-15T00:00:00.000000000",
          "2009-12-16T00:00:00.000000000",
          "2009-12-17T00:00:00.000000000",
          "2009-12-18T00:00:00.000000000",
          "2009-12-19T00:00:00.000000000",
          "2009-12-20T00:00:00.000000000",
          "2009-12-21T00:00:00.000000000",
          "2009-12-22T00:00:00.000000000",
          "2009-12-23T00:00:00.000000000",
          "2009-12-24T00:00:00.000000000",
          "2009-12-25T00:00:00.000000000",
          "2009-12-26T00:00:00.000000000",
          "2009-12-27T00:00:00.000000000",
          "2009-12-28T00:00:00.000000000",
          "2009-12-29T00:00:00.000000000",
          "2009-12-30T00:00:00.000000000",
          "2009-12-31T00:00:00.000000000",
          "2010-01-01T00:00:00.000000000",
          "2010-01-02T00:00:00.000000000",
          "2010-01-03T00:00:00.000000000",
          "2010-01-04T00:00:00.000000000",
          "2010-01-05T00:00:00.000000000",
          "2010-01-06T00:00:00.000000000",
          "2010-01-07T00:00:00.000000000",
          "2010-01-08T00:00:00.000000000",
          "2010-01-09T00:00:00.000000000",
          "2010-01-10T00:00:00.000000000",
          "2010-01-11T00:00:00.000000000",
          "2010-01-12T00:00:00.000000000",
          "2010-01-13T00:00:00.000000000",
          "2010-01-14T00:00:00.000000000",
          "2010-01-15T00:00:00.000000000",
          "2010-01-16T00:00:00.000000000",
          "2010-01-17T00:00:00.000000000",
          "2010-01-18T00:00:00.000000000",
          "2010-01-19T00:00:00.000000000",
          "2010-01-20T00:00:00.000000000",
          "2010-01-21T00:00:00.000000000",
          "2010-01-22T00:00:00.000000000",
          "2010-01-23T00:00:00.000000000",
          "2010-01-24T00:00:00.000000000",
          "2010-01-25T00:00:00.000000000",
          "2010-01-26T00:00:00.000000000",
          "2010-01-27T00:00:00.000000000",
          "2010-01-28T00:00:00.000000000",
          "2010-01-29T00:00:00.000000000",
          "2010-01-30T00:00:00.000000000",
          "2010-01-31T00:00:00.000000000",
          "2010-02-01T00:00:00.000000000",
          "2010-02-02T00:00:00.000000000",
          "2010-02-03T00:00:00.000000000",
          "2010-02-04T00:00:00.000000000",
          "2010-02-05T00:00:00.000000000",
          "2010-02-06T00:00:00.000000000",
          "2010-02-07T00:00:00.000000000",
          "2010-02-08T00:00:00.000000000",
          "2010-02-09T00:00:00.000000000",
          "2010-02-10T00:00:00.000000000",
          "2010-02-11T00:00:00.000000000",
          "2010-02-12T00:00:00.000000000",
          "2010-02-13T00:00:00.000000000",
          "2010-02-14T00:00:00.000000000",
          "2010-02-15T00:00:00.000000000",
          "2010-02-16T00:00:00.000000000",
          "2010-02-17T00:00:00.000000000",
          "2010-02-18T00:00:00.000000000",
          "2010-02-19T00:00:00.000000000",
          "2010-02-20T00:00:00.000000000",
          "2010-02-21T00:00:00.000000000",
          "2010-02-22T00:00:00.000000000",
          "2010-02-23T00:00:00.000000000",
          "2010-02-24T00:00:00.000000000",
          "2010-02-25T00:00:00.000000000",
          "2010-02-26T00:00:00.000000000",
          "2010-02-27T00:00:00.000000000",
          "2010-02-28T00:00:00.000000000",
          "2010-03-01T00:00:00.000000000",
          "2010-03-02T00:00:00.000000000",
          "2010-03-03T00:00:00.000000000",
          "2010-03-04T00:00:00.000000000",
          "2010-03-05T00:00:00.000000000",
          "2010-03-06T00:00:00.000000000",
          "2010-03-07T00:00:00.000000000",
          "2010-03-08T00:00:00.000000000",
          "2010-03-09T00:00:00.000000000",
          "2010-03-10T00:00:00.000000000",
          "2010-03-11T00:00:00.000000000",
          "2010-03-12T00:00:00.000000000",
          "2010-03-13T00:00:00.000000000",
          "2010-03-14T00:00:00.000000000",
          "2010-03-15T00:00:00.000000000",
          "2010-03-16T00:00:00.000000000",
          "2010-03-17T00:00:00.000000000",
          "2010-03-18T00:00:00.000000000",
          "2010-03-19T00:00:00.000000000",
          "2010-03-20T00:00:00.000000000",
          "2010-03-21T00:00:00.000000000",
          "2010-03-22T00:00:00.000000000",
          "2010-03-23T00:00:00.000000000",
          "2010-03-24T00:00:00.000000000",
          "2010-03-25T00:00:00.000000000",
          "2010-03-26T00:00:00.000000000",
          "2010-03-27T00:00:00.000000000",
          "2010-03-28T00:00:00.000000000",
          "2010-03-29T00:00:00.000000000",
          "2010-03-30T00:00:00.000000000",
          "2010-03-31T00:00:00.000000000",
          "2010-04-01T00:00:00.000000000",
          "2010-04-02T00:00:00.000000000",
          "2010-04-03T00:00:00.000000000",
          "2010-04-04T00:00:00.000000000",
          "2010-04-05T00:00:00.000000000",
          "2010-04-06T00:00:00.000000000",
          "2010-04-07T00:00:00.000000000",
          "2010-04-08T00:00:00.000000000",
          "2010-04-09T00:00:00.000000000",
          "2010-04-10T00:00:00.000000000",
          "2010-04-11T00:00:00.000000000",
          "2010-04-12T00:00:00.000000000",
          "2010-04-13T00:00:00.000000000",
          "2010-04-14T00:00:00.000000000",
          "2010-04-15T00:00:00.000000000",
          "2010-04-16T00:00:00.000000000",
          "2010-04-17T00:00:00.000000000",
          "2010-04-18T00:00:00.000000000",
          "2010-04-19T00:00:00.000000000",
          "2010-04-20T00:00:00.000000000",
          "2010-04-21T00:00:00.000000000",
          "2010-04-22T00:00:00.000000000",
          "2010-04-23T00:00:00.000000000",
          "2010-04-24T00:00:00.000000000",
          "2010-04-25T00:00:00.000000000",
          "2010-04-26T00:00:00.000000000",
          "2010-04-27T00:00:00.000000000",
          "2010-04-28T00:00:00.000000000",
          "2010-04-29T00:00:00.000000000",
          "2010-04-30T00:00:00.000000000",
          "2010-05-01T00:00:00.000000000",
          "2010-05-02T00:00:00.000000000",
          "2010-05-03T00:00:00.000000000",
          "2010-05-04T00:00:00.000000000",
          "2010-05-05T00:00:00.000000000",
          "2010-05-06T00:00:00.000000000",
          "2010-05-07T00:00:00.000000000",
          "2010-05-08T00:00:00.000000000",
          "2010-05-09T00:00:00.000000000",
          "2010-05-10T00:00:00.000000000",
          "2010-05-11T00:00:00.000000000",
          "2010-05-12T00:00:00.000000000",
          "2010-05-13T00:00:00.000000000",
          "2010-05-14T00:00:00.000000000",
          "2010-05-15T00:00:00.000000000",
          "2010-05-16T00:00:00.000000000",
          "2010-05-17T00:00:00.000000000",
          "2010-05-18T00:00:00.000000000",
          "2010-05-19T00:00:00.000000000",
          "2010-05-20T00:00:00.000000000",
          "2010-05-21T00:00:00.000000000",
          "2010-05-22T00:00:00.000000000",
          "2010-05-23T00:00:00.000000000",
          "2010-05-24T00:00:00.000000000",
          "2010-05-25T00:00:00.000000000",
          "2010-05-26T00:00:00.000000000",
          "2010-05-27T00:00:00.000000000",
          "2010-05-28T00:00:00.000000000",
          "2010-05-29T00:00:00.000000000",
          "2010-05-30T00:00:00.000000000",
          "2010-05-31T00:00:00.000000000",
          "2010-06-01T00:00:00.000000000",
          "2010-06-02T00:00:00.000000000",
          "2010-06-03T00:00:00.000000000",
          "2010-06-04T00:00:00.000000000",
          "2010-06-05T00:00:00.000000000",
          "2010-06-06T00:00:00.000000000",
          "2010-06-07T00:00:00.000000000",
          "2010-06-08T00:00:00.000000000",
          "2010-06-09T00:00:00.000000000",
          "2010-06-10T00:00:00.000000000",
          "2010-06-11T00:00:00.000000000",
          "2010-06-12T00:00:00.000000000",
          "2010-06-13T00:00:00.000000000",
          "2010-06-14T00:00:00.000000000",
          "2010-06-15T00:00:00.000000000",
          "2010-06-16T00:00:00.000000000",
          "2010-06-17T00:00:00.000000000",
          "2010-06-18T00:00:00.000000000",
          "2010-06-19T00:00:00.000000000",
          "2010-06-20T00:00:00.000000000",
          "2010-06-21T00:00:00.000000000",
          "2010-06-22T00:00:00.000000000",
          "2010-06-23T00:00:00.000000000",
          "2010-06-24T00:00:00.000000000",
          "2010-06-25T00:00:00.000000000",
          "2010-06-26T00:00:00.000000000",
          "2010-06-27T00:00:00.000000000",
          "2010-06-28T00:00:00.000000000",
          "2010-06-29T00:00:00.000000000",
          "2010-06-30T00:00:00.000000000",
          "2010-07-01T00:00:00.000000000",
          "2010-07-02T00:00:00.000000000",
          "2010-07-03T00:00:00.000000000",
          "2010-07-04T00:00:00.000000000",
          "2010-07-05T00:00:00.000000000",
          "2010-07-06T00:00:00.000000000",
          "2010-07-07T00:00:00.000000000",
          "2010-07-08T00:00:00.000000000",
          "2010-07-09T00:00:00.000000000",
          "2010-07-10T00:00:00.000000000",
          "2010-07-11T00:00:00.000000000",
          "2010-07-12T00:00:00.000000000",
          "2010-07-13T00:00:00.000000000",
          "2010-07-14T00:00:00.000000000",
          "2010-07-15T00:00:00.000000000",
          "2010-07-16T00:00:00.000000000",
          "2010-07-17T00:00:00.000000000",
          "2010-07-18T00:00:00.000000000",
          "2010-07-19T00:00:00.000000000",
          "2010-07-20T00:00:00.000000000",
          "2010-07-21T00:00:00.000000000",
          "2010-07-22T00:00:00.000000000",
          "2010-07-23T00:00:00.000000000",
          "2010-07-24T00:00:00.000000000",
          "2010-07-25T00:00:00.000000000",
          "2010-07-26T00:00:00.000000000",
          "2010-07-27T00:00:00.000000000",
          "2010-07-28T00:00:00.000000000",
          "2010-07-29T00:00:00.000000000",
          "2010-07-30T00:00:00.000000000",
          "2010-07-31T00:00:00.000000000",
          "2010-08-01T00:00:00.000000000",
          "2010-08-02T00:00:00.000000000",
          "2010-08-03T00:00:00.000000000",
          "2010-08-04T00:00:00.000000000",
          "2010-08-05T00:00:00.000000000",
          "2010-08-06T00:00:00.000000000",
          "2010-08-07T00:00:00.000000000",
          "2010-08-08T00:00:00.000000000",
          "2010-08-09T00:00:00.000000000",
          "2010-08-10T00:00:00.000000000",
          "2010-08-11T00:00:00.000000000",
          "2010-08-12T00:00:00.000000000",
          "2010-08-13T00:00:00.000000000",
          "2010-08-14T00:00:00.000000000",
          "2010-08-15T00:00:00.000000000",
          "2010-08-16T00:00:00.000000000",
          "2010-08-17T00:00:00.000000000",
          "2010-08-18T00:00:00.000000000",
          "2010-08-19T00:00:00.000000000",
          "2010-08-20T00:00:00.000000000",
          "2010-08-21T00:00:00.000000000",
          "2010-08-22T00:00:00.000000000",
          "2010-08-23T00:00:00.000000000",
          "2010-08-24T00:00:00.000000000",
          "2010-08-25T00:00:00.000000000",
          "2010-08-26T00:00:00.000000000",
          "2010-08-27T00:00:00.000000000",
          "2010-08-28T00:00:00.000000000",
          "2010-08-29T00:00:00.000000000",
          "2010-08-30T00:00:00.000000000",
          "2010-08-31T00:00:00.000000000",
          "2010-09-01T00:00:00.000000000",
          "2010-09-02T00:00:00.000000000",
          "2010-09-03T00:00:00.000000000",
          "2010-09-04T00:00:00.000000000",
          "2010-09-05T00:00:00.000000000",
          "2010-09-06T00:00:00.000000000",
          "2010-09-07T00:00:00.000000000",
          "2010-09-08T00:00:00.000000000",
          "2010-09-09T00:00:00.000000000",
          "2010-09-10T00:00:00.000000000",
          "2010-09-11T00:00:00.000000000",
          "2010-09-12T00:00:00.000000000",
          "2010-09-13T00:00:00.000000000",
          "2010-09-14T00:00:00.000000000",
          "2010-09-15T00:00:00.000000000",
          "2010-09-16T00:00:00.000000000",
          "2010-09-17T00:00:00.000000000",
          "2010-09-18T00:00:00.000000000",
          "2010-09-19T00:00:00.000000000",
          "2010-09-20T00:00:00.000000000",
          "2010-09-21T00:00:00.000000000",
          "2010-09-22T00:00:00.000000000",
          "2010-09-23T00:00:00.000000000",
          "2010-09-24T00:00:00.000000000",
          "2010-09-25T00:00:00.000000000",
          "2010-09-26T00:00:00.000000000",
          "2010-09-27T00:00:00.000000000",
          "2010-09-28T00:00:00.000000000",
          "2010-09-29T00:00:00.000000000",
          "2010-09-30T00:00:00.000000000",
          "2010-10-01T00:00:00.000000000",
          "2010-10-02T00:00:00.000000000",
          "2010-10-03T00:00:00.000000000",
          "2010-10-04T00:00:00.000000000",
          "2010-10-05T00:00:00.000000000",
          "2010-10-06T00:00:00.000000000",
          "2010-10-07T00:00:00.000000000",
          "2010-10-08T00:00:00.000000000",
          "2010-10-09T00:00:00.000000000",
          "2010-10-10T00:00:00.000000000",
          "2010-10-11T00:00:00.000000000",
          "2010-10-12T00:00:00.000000000",
          "2010-10-13T00:00:00.000000000",
          "2010-10-14T00:00:00.000000000",
          "2010-10-15T00:00:00.000000000",
          "2010-10-16T00:00:00.000000000",
          "2010-10-17T00:00:00.000000000",
          "2010-10-18T00:00:00.000000000",
          "2010-10-19T00:00:00.000000000",
          "2010-10-20T00:00:00.000000000",
          "2010-10-21T00:00:00.000000000",
          "2010-10-22T00:00:00.000000000",
          "2010-10-23T00:00:00.000000000",
          "2010-10-24T00:00:00.000000000",
          "2010-10-25T00:00:00.000000000",
          "2010-10-26T00:00:00.000000000",
          "2010-10-27T00:00:00.000000000",
          "2010-10-28T00:00:00.000000000",
          "2010-10-29T00:00:00.000000000",
          "2010-10-30T00:00:00.000000000",
          "2010-10-31T00:00:00.000000000",
          "2010-11-01T00:00:00.000000000",
          "2010-11-02T00:00:00.000000000",
          "2010-11-03T00:00:00.000000000",
          "2010-11-04T00:00:00.000000000",
          "2010-11-05T00:00:00.000000000",
          "2010-11-06T00:00:00.000000000",
          "2010-11-07T00:00:00.000000000",
          "2010-11-08T00:00:00.000000000",
          "2010-11-09T00:00:00.000000000",
          "2010-11-10T00:00:00.000000000",
          "2010-11-11T00:00:00.000000000",
          "2010-11-12T00:00:00.000000000",
          "2010-11-13T00:00:00.000000000",
          "2010-11-14T00:00:00.000000000",
          "2010-11-15T00:00:00.000000000",
          "2010-11-16T00:00:00.000000000",
          "2010-11-17T00:00:00.000000000",
          "2010-11-18T00:00:00.000000000",
          "2010-11-19T00:00:00.000000000",
          "2010-11-20T00:00:00.000000000",
          "2010-11-21T00:00:00.000000000",
          "2010-11-22T00:00:00.000000000",
          "2010-11-23T00:00:00.000000000",
          "2010-11-24T00:00:00.000000000",
          "2010-11-25T00:00:00.000000000",
          "2010-11-26T00:00:00.000000000"
         ],
         "xaxis": "x",
         "y": {
          "bdata": "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",
          "dtype": "f8"
         },
         "yaxis": "y"
        }
       ],
       "layout": {
        "barmode": "relative",
        "height": 800,
        "legend": {
         "tracegroupgap": 0
        },
        "template": {
         "data": {
          "bar": [
           {
            "error_x": {
             "color": "#2a3f5f"
            },
            "error_y": {
             "color": "#2a3f5f"
            },
            "marker": {
             "line": {
              "color": "#E5ECF6",
              "width": 0.5
             },
             "pattern": {
              "fillmode": "overlay",
              "size": 10,
              "solidity": 0.2
             }
            },
            "type": "bar"
           }
          ],
          "barpolar": [
           {
            "marker": {
             "line": {
              "color": "#E5ECF6",
              "width": 0.5
             },
             "pattern": {
              "fillmode": "overlay",
              "size": 10,
              "solidity": 0.2
             }
            },
            "type": "barpolar"
           }
          ],
          "carpet": [
           {
            "aaxis": {
             "endlinecolor": "#2a3f5f",
             "gridcolor": "white",
             "linecolor": "white",
             "minorgridcolor": "white",
             "startlinecolor": "#2a3f5f"
            },
            "baxis": {
             "endlinecolor": "#2a3f5f",
             "gridcolor": "white",
             "linecolor": "white",
             "minorgridcolor": "white",
             "startlinecolor": "#2a3f5f"
            },
            "type": "carpet"
           }
          ],
          "choropleth": [
           {
            "colorbar": {
             "outlinewidth": 0,
             "ticks": ""
            },
            "type": "choropleth"
           }
          ],
          "contour": [
           {
            "colorbar": {
             "outlinewidth": 0,
             "ticks": ""
            },
            "colorscale": [
             [
              0,
              "#0d0887"
             ],
             [
              0.1111111111111111,
              "#46039f"
             ],
             [
              0.2222222222222222,
              "#7201a8"
             ],
             [
              0.3333333333333333,
              "#9c179e"
             ],
             [
              0.4444444444444444,
              "#bd3786"
             ],
             [
              0.5555555555555556,
              "#d8576b"
             ],
             [
              0.6666666666666666,
              "#ed7953"
             ],
             [
              0.7777777777777778,
              "#fb9f3a"
             ],
             [
              0.8888888888888888,
              "#fdca26"
             ],
             [
              1,
              "#f0f921"
             ]
            ],
            "type": "contour"
           }
          ],
          "contourcarpet": [
           {
            "colorbar": {
             "outlinewidth": 0,
             "ticks": ""
            },
            "type": "contourcarpet"
           }
          ],
          "heatmap": [
           {
            "colorbar": {
             "outlinewidth": 0,
             "ticks": ""
            },
            "colorscale": [
             [
              0,
              "#0d0887"
             ],
             [
              0.1111111111111111,
              "#46039f"
             ],
             [
              0.2222222222222222,
              "#7201a8"
             ],
             [
              0.3333333333333333,
              "#9c179e"
             ],
             [
              0.4444444444444444,
              "#bd3786"
             ],
             [
              0.5555555555555556,
              "#d8576b"
             ],
             [
              0.6666666666666666,
              "#ed7953"
             ],
             [
              0.7777777777777778,
              "#fb9f3a"
             ],
             [
              0.8888888888888888,
              "#fdca26"
             ],
             [
              1,
              "#f0f921"
             ]
            ],
            "type": "heatmap"
           }
          ],
          "histogram": [
           {
            "marker": {
             "pattern": {
              "fillmode": "overlay",
              "size": 10,
              "solidity": 0.2
             }
            },
            "type": "histogram"
           }
          ],
          "histogram2d": [
           {
            "colorbar": {
             "outlinewidth": 0,
             "ticks": ""
            },
            "colorscale": [
             [
              0,
              "#0d0887"
             ],
             [
              0.1111111111111111,
              "#46039f"
             ],
             [
              0.2222222222222222,
              "#7201a8"
             ],
             [
              0.3333333333333333,
              "#9c179e"
             ],
             [
              0.4444444444444444,
              "#bd3786"
             ],
             [
              0.5555555555555556,
              "#d8576b"
             ],
             [
              0.6666666666666666,
              "#ed7953"
             ],
             [
              0.7777777777777778,
              "#fb9f3a"
             ],
             [
              0.8888888888888888,
              "#fdca26"
             ],
             [
              1,
              "#f0f921"
             ]
            ],
            "type": "histogram2d"
           }
          ],
          "histogram2dcontour": [
           {
            "colorbar": {
             "outlinewidth": 0,
             "ticks": ""
            },
            "colorscale": [
             [
              0,
              "#0d0887"
             ],
             [
              0.1111111111111111,
              "#46039f"
             ],
             [
              0.2222222222222222,
              "#7201a8"
             ],
             [
              0.3333333333333333,
              "#9c179e"
             ],
             [
              0.4444444444444444,
              "#bd3786"
             ],
             [
              0.5555555555555556,
              "#d8576b"
             ],
             [
              0.6666666666666666,
              "#ed7953"
             ],
             [
              0.7777777777777778,
              "#fb9f3a"
             ],
             [
              0.8888888888888888,
              "#fdca26"
             ],
             [
              1,
              "#f0f921"
             ]
            ],
            "type": "histogram2dcontour"
           }
          ],
          "mesh3d": [
           {
            "colorbar": {
             "outlinewidth": 0,
             "ticks": ""
            },
            "type": "mesh3d"
           }
          ],
          "parcoords": [
           {
            "line": {
             "colorbar": {
              "outlinewidth": 0,
              "ticks": ""
             }
            },
            "type": "parcoords"
           }
          ],
          "pie": [
           {
            "automargin": true,
            "type": "pie"
           }
          ],
          "scatter": [
           {
            "fillpattern": {
             "fillmode": "overlay",
             "size": 10,
             "solidity": 0.2
            },
            "type": "scatter"
           }
          ],
          "scatter3d": [
           {
            "line": {
             "colorbar": {
              "outlinewidth": 0,
              "ticks": ""
             }
            },
            "marker": {
             "colorbar": {
              "outlinewidth": 0,
              "ticks": ""
             }
            },
            "type": "scatter3d"
           }
          ],
          "scattercarpet": [
           {
            "marker": {
             "colorbar": {
              "outlinewidth": 0,
              "ticks": ""
             }
            },
            "type": "scattercarpet"
           }
          ],
          "scattergeo": [
           {
            "marker": {
             "colorbar": {
              "outlinewidth": 0,
              "ticks": ""
             }
            },
            "type": "scattergeo"
           }
          ],
          "scattergl": [
           {
            "marker": {
             "colorbar": {
              "outlinewidth": 0,
              "ticks": ""
             }
            },
            "type": "scattergl"
           }
          ],
          "scattermap": [
           {
            "marker": {
             "colorbar": {
              "outlinewidth": 0,
              "ticks": ""
             }
            },
            "type": "scattermap"
           }
          ],
          "scattermapbox": [
           {
            "marker": {
             "colorbar": {
              "outlinewidth": 0,
              "ticks": ""
             }
            },
            "type": "scattermapbox"
           }
          ],
          "scatterpolar": [
           {
            "marker": {
             "colorbar": {
              "outlinewidth": 0,
              "ticks": ""
             }
            },
            "type": "scatterpolar"
           }
          ],
          "scatterpolargl": [
           {
            "marker": {
             "colorbar": {
              "outlinewidth": 0,
              "ticks": ""
             }
            },
            "type": "scatterpolargl"
           }
          ],
          "scatterternary": [
           {
            "marker": {
             "colorbar": {
              "outlinewidth": 0,
              "ticks": ""
             }
            },
            "type": "scatterternary"
           }
          ],
          "surface": [
           {
            "colorbar": {
             "outlinewidth": 0,
             "ticks": ""
            },
            "colorscale": [
             [
              0,
              "#0d0887"
             ],
             [
              0.1111111111111111,
              "#46039f"
             ],
             [
              0.2222222222222222,
              "#7201a8"
             ],
             [
              0.3333333333333333,
              "#9c179e"
             ],
             [
              0.4444444444444444,
              "#bd3786"
             ],
             [
              0.5555555555555556,
              "#d8576b"
             ],
             [
              0.6666666666666666,
              "#ed7953"
             ],
             [
              0.7777777777777778,
              "#fb9f3a"
             ],
             [
              0.8888888888888888,
              "#fdca26"
             ],
             [
              1,
              "#f0f921"
             ]
            ],
            "type": "surface"
           }
          ],
          "table": [
           {
            "cells": {
             "fill": {
              "color": "#EBF0F8"
             },
             "line": {
              "color": "white"
             }
            },
            "header": {
             "fill": {
              "color": "#C8D4E3"
             },
             "line": {
              "color": "white"
             }
            },
            "type": "table"
           }
          ]
         },
         "layout": {
          "annotationdefaults": {
           "arrowcolor": "#2a3f5f",
           "arrowhead": 0,
           "arrowwidth": 1
          },
          "autotypenumbers": "strict",
          "coloraxis": {
           "colorbar": {
            "outlinewidth": 0,
            "ticks": ""
           }
          },
          "colorscale": {
           "diverging": [
            [
             0,
             "#8e0152"
            ],
            [
             0.1,
             "#c51b7d"
            ],
            [
             0.2,
             "#de77ae"
            ],
            [
             0.3,
             "#f1b6da"
            ],
            [
             0.4,
             "#fde0ef"
            ],
            [
             0.5,
             "#f7f7f7"
            ],
            [
             0.6,
             "#e6f5d0"
            ],
            [
             0.7,
             "#b8e186"
            ],
            [
             0.8,
             "#7fbc41"
            ],
            [
             0.9,
             "#4d9221"
            ],
            [
             1,
             "#276419"
            ]
           ],
           "sequential": [
            [
             0,
             "#0d0887"
            ],
            [
             0.1111111111111111,
             "#46039f"
            ],
            [
             0.2222222222222222,
             "#7201a8"
            ],
            [
             0.3333333333333333,
             "#9c179e"
            ],
            [
             0.4444444444444444,
             "#bd3786"
            ],
            [
             0.5555555555555556,
             "#d8576b"
            ],
            [
             0.6666666666666666,
             "#ed7953"
            ],
            [
             0.7777777777777778,
             "#fb9f3a"
            ],
            [
             0.8888888888888888,
             "#fdca26"
            ],
            [
             1,
             "#f0f921"
            ]
           ],
           "sequentialminus": [
            [
             0,
             "#0d0887"
            ],
            [
             0.1111111111111111,
             "#46039f"
            ],
            [
             0.2222222222222222,
             "#7201a8"
            ],
            [
             0.3333333333333333,
             "#9c179e"
            ],
            [
             0.4444444444444444,
             "#bd3786"
            ],
            [
             0.5555555555555556,
             "#d8576b"
            ],
            [
             0.6666666666666666,
             "#ed7953"
            ],
            [
             0.7777777777777778,
             "#fb9f3a"
            ],
            [
             0.8888888888888888,
             "#fdca26"
            ],
            [
             1,
             "#f0f921"
            ]
           ]
          },
          "colorway": [
           "#636efa",
           "#EF553B",
           "#00cc96",
           "#ab63fa",
           "#FFA15A",
           "#19d3f3",
           "#FF6692",
           "#B6E880",
           "#FF97FF",
           "#FECB52"
          ],
          "font": {
           "color": "#2a3f5f"
          },
          "geo": {
           "bgcolor": "white",
           "lakecolor": "white",
           "landcolor": "#E5ECF6",
           "showlakes": true,
           "showland": true,
           "subunitcolor": "white"
          },
          "hoverlabel": {
           "align": "left"
          },
          "hovermode": "closest",
          "mapbox": {
           "style": "light"
          },
          "paper_bgcolor": "white",
          "plot_bgcolor": "#E5ECF6",
          "polar": {
           "angularaxis": {
            "gridcolor": "white",
            "linecolor": "white",
            "ticks": ""
           },
           "bgcolor": "#E5ECF6",
           "radialaxis": {
            "gridcolor": "white",
            "linecolor": "white",
            "ticks": ""
           }
          },
          "scene": {
           "xaxis": {
            "backgroundcolor": "#E5ECF6",
            "gridcolor": "white",
            "gridwidth": 2,
            "linecolor": "white",
            "showbackground": true,
            "ticks": "",
            "zerolinecolor": "white"
           },
           "yaxis": {
            "backgroundcolor": "#E5ECF6",
            "gridcolor": "white",
            "gridwidth": 2,
            "linecolor": "white",
            "showbackground": true,
            "ticks": "",
            "zerolinecolor": "white"
           },
           "zaxis": {
            "backgroundcolor": "#E5ECF6",
            "gridcolor": "white",
            "gridwidth": 2,
            "linecolor": "white",
            "showbackground": true,
            "ticks": "",
            "zerolinecolor": "white"
           }
          },
          "shapedefaults": {
           "line": {
            "color": "#2a3f5f"
           }
          },
          "ternary": {
           "aaxis": {
            "gridcolor": "white",
            "linecolor": "white",
            "ticks": ""
           },
           "baxis": {
            "gridcolor": "white",
            "linecolor": "white",
            "ticks": ""
           },
           "bgcolor": "#E5ECF6",
           "caxis": {
            "gridcolor": "white",
            "linecolor": "white",
            "ticks": ""
           }
          },
          "title": {
           "x": 0.05
          },
          "xaxis": {
           "automargin": true,
           "gridcolor": "white",
           "linecolor": "white",
           "ticks": "",
           "title": {
            "standoff": 15
           },
           "zerolinecolor": "white",
           "zerolinewidth": 2
          },
          "yaxis": {
           "automargin": true,
           "gridcolor": "white",
           "linecolor": "white",
           "ticks": "",
           "title": {
            "standoff": 15
           },
           "zerolinecolor": "white",
           "zerolinewidth": 2
          }
         }
        },
        "title": {
         "text": "Voltagem / ano"
        },
        "width": 800,
        "xaxis": {
         "anchor": "y",
         "domain": [
          0,
          1
         ],
         "title": {
          "text": "Date"
         }
        },
        "yaxis": {
         "anchor": "x",
         "domain": [
          0,
          1
         ],
         "title": {
          "text": "Voltage"
         }
        }
       }
      }
     },
     "metadata": {},
     "output_type": "display_data"
    }
   ],
   "source": [
    "mean_consuption = df_household_group_by_date[[\"Date\", \"Voltage\"]]\n",
    "\n",
    "fig = px.bar(\n",
    "    mean_consuption,\n",
    "    x=\"Date\",\n",
    "    y=\"Voltage\",\n",
    "    title=\"Voltagem / ano\",\n",
    "    text=\"Voltage\",\n",
    ")\n",
    "fig.update_layout(\n",
    "    width=800,\n",
    "    height=800,\n",
    ")\n",
    "\n",
    "fig.show()"
   ]
  },
  {
   "cell_type": "markdown",
   "id": "232fb297",
   "metadata": {},
   "source": [
    "> Voltagem é algo estável ao longo do tempo\n",
    "\n",
    "--- \n",
    "\n",
    "### 8. Calcule o consumo médio por mês em todo o período disponível no dataset.\n"
   ]
  },
  {
   "cell_type": "code",
   "execution_count": 15,
   "id": "9eb5fe20",
   "metadata": {},
   "outputs": [
    {
     "data": {
      "application/vnd.plotly.v1+json": {
       "config": {
        "plotlyServerURL": "https://plot.ly"
       },
       "data": [
        {
         "hovertemplate": "month=%{x}<br>Global_active_power=%{text}<extra></extra>",
         "legendgroup": "",
         "marker": {
          "color": "#636efa",
          "pattern": {
           "shape": ""
          }
         },
         "name": "",
         "orientation": "v",
         "showlegend": false,
         "text": {
          "bdata": "vmplwi919z/n49pQMc70P2cKndfYpfM/eVioNc278D9iFW9kHnnwP7raiv1l9+w/RS+jWG5p5j8dOGdEaW/iPzuqmiDqPu8/NpNvtrkx8j+2Z5YEqKn0P6qCUUmdAPg/",
          "dtype": "f8"
         },
         "textposition": "auto",
         "type": "bar",
         "x": {
          "bdata": "AQIDBAUGBwgJCgsM",
          "dtype": "i1"
         },
         "xaxis": "x",
         "y": {
          "bdata": "vmplwi919z/n49pQMc70P2cKndfYpfM/eVioNc278D9iFW9kHnnwP7raiv1l9+w/RS+jWG5p5j8dOGdEaW/iPzuqmiDqPu8/NpNvtrkx8j+2Z5YEqKn0P6qCUUmdAPg/",
          "dtype": "f8"
         },
         "yaxis": "y"
        }
       ],
       "layout": {
        "barmode": "relative",
        "height": 800,
        "legend": {
         "tracegroupgap": 0
        },
        "template": {
         "data": {
          "bar": [
           {
            "error_x": {
             "color": "#2a3f5f"
            },
            "error_y": {
             "color": "#2a3f5f"
            },
            "marker": {
             "line": {
              "color": "#E5ECF6",
              "width": 0.5
             },
             "pattern": {
              "fillmode": "overlay",
              "size": 10,
              "solidity": 0.2
             }
            },
            "type": "bar"
           }
          ],
          "barpolar": [
           {
            "marker": {
             "line": {
              "color": "#E5ECF6",
              "width": 0.5
             },
             "pattern": {
              "fillmode": "overlay",
              "size": 10,
              "solidity": 0.2
             }
            },
            "type": "barpolar"
           }
          ],
          "carpet": [
           {
            "aaxis": {
             "endlinecolor": "#2a3f5f",
             "gridcolor": "white",
             "linecolor": "white",
             "minorgridcolor": "white",
             "startlinecolor": "#2a3f5f"
            },
            "baxis": {
             "endlinecolor": "#2a3f5f",
             "gridcolor": "white",
             "linecolor": "white",
             "minorgridcolor": "white",
             "startlinecolor": "#2a3f5f"
            },
            "type": "carpet"
           }
          ],
          "choropleth": [
           {
            "colorbar": {
             "outlinewidth": 0,
             "ticks": ""
            },
            "type": "choropleth"
           }
          ],
          "contour": [
           {
            "colorbar": {
             "outlinewidth": 0,
             "ticks": ""
            },
            "colorscale": [
             [
              0,
              "#0d0887"
             ],
             [
              0.1111111111111111,
              "#46039f"
             ],
             [
              0.2222222222222222,
              "#7201a8"
             ],
             [
              0.3333333333333333,
              "#9c179e"
             ],
             [
              0.4444444444444444,
              "#bd3786"
             ],
             [
              0.5555555555555556,
              "#d8576b"
             ],
             [
              0.6666666666666666,
              "#ed7953"
             ],
             [
              0.7777777777777778,
              "#fb9f3a"
             ],
             [
              0.8888888888888888,
              "#fdca26"
             ],
             [
              1,
              "#f0f921"
             ]
            ],
            "type": "contour"
           }
          ],
          "contourcarpet": [
           {
            "colorbar": {
             "outlinewidth": 0,
             "ticks": ""
            },
            "type": "contourcarpet"
           }
          ],
          "heatmap": [
           {
            "colorbar": {
             "outlinewidth": 0,
             "ticks": ""
            },
            "colorscale": [
             [
              0,
              "#0d0887"
             ],
             [
              0.1111111111111111,
              "#46039f"
             ],
             [
              0.2222222222222222,
              "#7201a8"
             ],
             [
              0.3333333333333333,
              "#9c179e"
             ],
             [
              0.4444444444444444,
              "#bd3786"
             ],
             [
              0.5555555555555556,
              "#d8576b"
             ],
             [
              0.6666666666666666,
              "#ed7953"
             ],
             [
              0.7777777777777778,
              "#fb9f3a"
             ],
             [
              0.8888888888888888,
              "#fdca26"
             ],
             [
              1,
              "#f0f921"
             ]
            ],
            "type": "heatmap"
           }
          ],
          "histogram": [
           {
            "marker": {
             "pattern": {
              "fillmode": "overlay",
              "size": 10,
              "solidity": 0.2
             }
            },
            "type": "histogram"
           }
          ],
          "histogram2d": [
           {
            "colorbar": {
             "outlinewidth": 0,
             "ticks": ""
            },
            "colorscale": [
             [
              0,
              "#0d0887"
             ],
             [
              0.1111111111111111,
              "#46039f"
             ],
             [
              0.2222222222222222,
              "#7201a8"
             ],
             [
              0.3333333333333333,
              "#9c179e"
             ],
             [
              0.4444444444444444,
              "#bd3786"
             ],
             [
              0.5555555555555556,
              "#d8576b"
             ],
             [
              0.6666666666666666,
              "#ed7953"
             ],
             [
              0.7777777777777778,
              "#fb9f3a"
             ],
             [
              0.8888888888888888,
              "#fdca26"
             ],
             [
              1,
              "#f0f921"
             ]
            ],
            "type": "histogram2d"
           }
          ],
          "histogram2dcontour": [
           {
            "colorbar": {
             "outlinewidth": 0,
             "ticks": ""
            },
            "colorscale": [
             [
              0,
              "#0d0887"
             ],
             [
              0.1111111111111111,
              "#46039f"
             ],
             [
              0.2222222222222222,
              "#7201a8"
             ],
             [
              0.3333333333333333,
              "#9c179e"
             ],
             [
              0.4444444444444444,
              "#bd3786"
             ],
             [
              0.5555555555555556,
              "#d8576b"
             ],
             [
              0.6666666666666666,
              "#ed7953"
             ],
             [
              0.7777777777777778,
              "#fb9f3a"
             ],
             [
              0.8888888888888888,
              "#fdca26"
             ],
             [
              1,
              "#f0f921"
             ]
            ],
            "type": "histogram2dcontour"
           }
          ],
          "mesh3d": [
           {
            "colorbar": {
             "outlinewidth": 0,
             "ticks": ""
            },
            "type": "mesh3d"
           }
          ],
          "parcoords": [
           {
            "line": {
             "colorbar": {
              "outlinewidth": 0,
              "ticks": ""
             }
            },
            "type": "parcoords"
           }
          ],
          "pie": [
           {
            "automargin": true,
            "type": "pie"
           }
          ],
          "scatter": [
           {
            "fillpattern": {
             "fillmode": "overlay",
             "size": 10,
             "solidity": 0.2
            },
            "type": "scatter"
           }
          ],
          "scatter3d": [
           {
            "line": {
             "colorbar": {
              "outlinewidth": 0,
              "ticks": ""
             }
            },
            "marker": {
             "colorbar": {
              "outlinewidth": 0,
              "ticks": ""
             }
            },
            "type": "scatter3d"
           }
          ],
          "scattercarpet": [
           {
            "marker": {
             "colorbar": {
              "outlinewidth": 0,
              "ticks": ""
             }
            },
            "type": "scattercarpet"
           }
          ],
          "scattergeo": [
           {
            "marker": {
             "colorbar": {
              "outlinewidth": 0,
              "ticks": ""
             }
            },
            "type": "scattergeo"
           }
          ],
          "scattergl": [
           {
            "marker": {
             "colorbar": {
              "outlinewidth": 0,
              "ticks": ""
             }
            },
            "type": "scattergl"
           }
          ],
          "scattermap": [
           {
            "marker": {
             "colorbar": {
              "outlinewidth": 0,
              "ticks": ""
             }
            },
            "type": "scattermap"
           }
          ],
          "scattermapbox": [
           {
            "marker": {
             "colorbar": {
              "outlinewidth": 0,
              "ticks": ""
             }
            },
            "type": "scattermapbox"
           }
          ],
          "scatterpolar": [
           {
            "marker": {
             "colorbar": {
              "outlinewidth": 0,
              "ticks": ""
             }
            },
            "type": "scatterpolar"
           }
          ],
          "scatterpolargl": [
           {
            "marker": {
             "colorbar": {
              "outlinewidth": 0,
              "ticks": ""
             }
            },
            "type": "scatterpolargl"
           }
          ],
          "scatterternary": [
           {
            "marker": {
             "colorbar": {
              "outlinewidth": 0,
              "ticks": ""
             }
            },
            "type": "scatterternary"
           }
          ],
          "surface": [
           {
            "colorbar": {
             "outlinewidth": 0,
             "ticks": ""
            },
            "colorscale": [
             [
              0,
              "#0d0887"
             ],
             [
              0.1111111111111111,
              "#46039f"
             ],
             [
              0.2222222222222222,
              "#7201a8"
             ],
             [
              0.3333333333333333,
              "#9c179e"
             ],
             [
              0.4444444444444444,
              "#bd3786"
             ],
             [
              0.5555555555555556,
              "#d8576b"
             ],
             [
              0.6666666666666666,
              "#ed7953"
             ],
             [
              0.7777777777777778,
              "#fb9f3a"
             ],
             [
              0.8888888888888888,
              "#fdca26"
             ],
             [
              1,
              "#f0f921"
             ]
            ],
            "type": "surface"
           }
          ],
          "table": [
           {
            "cells": {
             "fill": {
              "color": "#EBF0F8"
             },
             "line": {
              "color": "white"
             }
            },
            "header": {
             "fill": {
              "color": "#C8D4E3"
             },
             "line": {
              "color": "white"
             }
            },
            "type": "table"
           }
          ]
         },
         "layout": {
          "annotationdefaults": {
           "arrowcolor": "#2a3f5f",
           "arrowhead": 0,
           "arrowwidth": 1
          },
          "autotypenumbers": "strict",
          "coloraxis": {
           "colorbar": {
            "outlinewidth": 0,
            "ticks": ""
           }
          },
          "colorscale": {
           "diverging": [
            [
             0,
             "#8e0152"
            ],
            [
             0.1,
             "#c51b7d"
            ],
            [
             0.2,
             "#de77ae"
            ],
            [
             0.3,
             "#f1b6da"
            ],
            [
             0.4,
             "#fde0ef"
            ],
            [
             0.5,
             "#f7f7f7"
            ],
            [
             0.6,
             "#e6f5d0"
            ],
            [
             0.7,
             "#b8e186"
            ],
            [
             0.8,
             "#7fbc41"
            ],
            [
             0.9,
             "#4d9221"
            ],
            [
             1,
             "#276419"
            ]
           ],
           "sequential": [
            [
             0,
             "#0d0887"
            ],
            [
             0.1111111111111111,
             "#46039f"
            ],
            [
             0.2222222222222222,
             "#7201a8"
            ],
            [
             0.3333333333333333,
             "#9c179e"
            ],
            [
             0.4444444444444444,
             "#bd3786"
            ],
            [
             0.5555555555555556,
             "#d8576b"
            ],
            [
             0.6666666666666666,
             "#ed7953"
            ],
            [
             0.7777777777777778,
             "#fb9f3a"
            ],
            [
             0.8888888888888888,
             "#fdca26"
            ],
            [
             1,
             "#f0f921"
            ]
           ],
           "sequentialminus": [
            [
             0,
             "#0d0887"
            ],
            [
             0.1111111111111111,
             "#46039f"
            ],
            [
             0.2222222222222222,
             "#7201a8"
            ],
            [
             0.3333333333333333,
             "#9c179e"
            ],
            [
             0.4444444444444444,
             "#bd3786"
            ],
            [
             0.5555555555555556,
             "#d8576b"
            ],
            [
             0.6666666666666666,
             "#ed7953"
            ],
            [
             0.7777777777777778,
             "#fb9f3a"
            ],
            [
             0.8888888888888888,
             "#fdca26"
            ],
            [
             1,
             "#f0f921"
            ]
           ]
          },
          "colorway": [
           "#636efa",
           "#EF553B",
           "#00cc96",
           "#ab63fa",
           "#FFA15A",
           "#19d3f3",
           "#FF6692",
           "#B6E880",
           "#FF97FF",
           "#FECB52"
          ],
          "font": {
           "color": "#2a3f5f"
          },
          "geo": {
           "bgcolor": "white",
           "lakecolor": "white",
           "landcolor": "#E5ECF6",
           "showlakes": true,
           "showland": true,
           "subunitcolor": "white"
          },
          "hoverlabel": {
           "align": "left"
          },
          "hovermode": "closest",
          "mapbox": {
           "style": "light"
          },
          "paper_bgcolor": "white",
          "plot_bgcolor": "#E5ECF6",
          "polar": {
           "angularaxis": {
            "gridcolor": "white",
            "linecolor": "white",
            "ticks": ""
           },
           "bgcolor": "#E5ECF6",
           "radialaxis": {
            "gridcolor": "white",
            "linecolor": "white",
            "ticks": ""
           }
          },
          "scene": {
           "xaxis": {
            "backgroundcolor": "#E5ECF6",
            "gridcolor": "white",
            "gridwidth": 2,
            "linecolor": "white",
            "showbackground": true,
            "ticks": "",
            "zerolinecolor": "white"
           },
           "yaxis": {
            "backgroundcolor": "#E5ECF6",
            "gridcolor": "white",
            "gridwidth": 2,
            "linecolor": "white",
            "showbackground": true,
            "ticks": "",
            "zerolinecolor": "white"
           },
           "zaxis": {
            "backgroundcolor": "#E5ECF6",
            "gridcolor": "white",
            "gridwidth": 2,
            "linecolor": "white",
            "showbackground": true,
            "ticks": "",
            "zerolinecolor": "white"
           }
          },
          "shapedefaults": {
           "line": {
            "color": "#2a3f5f"
           }
          },
          "ternary": {
           "aaxis": {
            "gridcolor": "white",
            "linecolor": "white",
            "ticks": ""
           },
           "baxis": {
            "gridcolor": "white",
            "linecolor": "white",
            "ticks": ""
           },
           "bgcolor": "#E5ECF6",
           "caxis": {
            "gridcolor": "white",
            "linecolor": "white",
            "ticks": ""
           }
          },
          "title": {
           "x": 0.05
          },
          "xaxis": {
           "automargin": true,
           "gridcolor": "white",
           "linecolor": "white",
           "ticks": "",
           "title": {
            "standoff": 15
           },
           "zerolinecolor": "white",
           "zerolinewidth": 2
          },
          "yaxis": {
           "automargin": true,
           "gridcolor": "white",
           "linecolor": "white",
           "ticks": "",
           "title": {
            "standoff": 15
           },
           "zerolinecolor": "white",
           "zerolinewidth": 2
          }
         }
        },
        "title": {
         "text": "Comsumo / mês"
        },
        "width": 800,
        "xaxis": {
         "anchor": "y",
         "domain": [
          0,
          1
         ],
         "title": {
          "text": "month"
         }
        },
        "yaxis": {
         "anchor": "x",
         "domain": [
          0,
          1
         ],
         "title": {
          "text": "Global_active_power"
         }
        }
       }
      }
     },
     "metadata": {},
     "output_type": "display_data"
    }
   ],
   "source": [
    "month_consuption = df_household_group_by_date.copy()\n",
    "month_consuption['month'] = month_consuption['Date'].apply(lambda x: x.month)\n",
    "month_consuption_grouped = month_consuption.groupby(\"month\")['Global_active_power'].mean().round(5).reset_index()\n",
    "\n",
    "fig = px.bar(\n",
    "    month_consuption_grouped,\n",
    "    x=\"month\",\n",
    "    y=\"Global_active_power\",\n",
    "    title=\"Comsumo / mês\",\n",
    "    text=\"Global_active_power\",\n",
    ")\n",
    "fig.update_layout(\n",
    "    width=800,\n",
    "    height=800,\n",
    ")\n",
    "\n",
    "fig.show()"
   ]
  },
  {
   "cell_type": "markdown",
   "id": "1650b797",
   "metadata": {},
   "source": [
    "--- \n",
    "\n",
    "### 9. Identifique o dia com maior consumo de energia ativa global (Global_active_power)."
   ]
  },
  {
   "cell_type": "code",
   "execution_count": 16,
   "id": "7fc92126",
   "metadata": {},
   "outputs": [
    {
     "data": {
      "text/html": [
       "<div>\n",
       "<style scoped>\n",
       "    .dataframe tbody tr th:only-of-type {\n",
       "        vertical-align: middle;\n",
       "    }\n",
       "\n",
       "    .dataframe tbody tr th {\n",
       "        vertical-align: top;\n",
       "    }\n",
       "\n",
       "    .dataframe thead th {\n",
       "        text-align: right;\n",
       "    }\n",
       "</style>\n",
       "<table border=\"1\" class=\"dataframe\">\n",
       "  <thead>\n",
       "    <tr style=\"text-align: right;\">\n",
       "      <th></th>\n",
       "      <th>Date</th>\n",
       "      <th>Time</th>\n",
       "      <th>Global_active_power</th>\n",
       "      <th>Global_reactive_power</th>\n",
       "      <th>Voltage</th>\n",
       "      <th>Global_intensity</th>\n",
       "      <th>Sub_metering_1</th>\n",
       "      <th>Sub_metering_2</th>\n",
       "      <th>Sub_metering_3</th>\n",
       "      <th>week_day</th>\n",
       "      <th>year</th>\n",
       "    </tr>\n",
       "  </thead>\n",
       "  <tbody>\n",
       "    <tr>\n",
       "      <th>1150545</th>\n",
       "      <td>2009-02-22</td>\n",
       "      <td>17:09:00</td>\n",
       "      <td>11.122</td>\n",
       "      <td>0.174</td>\n",
       "      <td>229.78</td>\n",
       "      <td>48.4</td>\n",
       "      <td>35.0</td>\n",
       "      <td>69.0</td>\n",
       "      <td>16.0</td>\n",
       "      <td>Domingo</td>\n",
       "      <td>2009</td>\n",
       "    </tr>\n",
       "  </tbody>\n",
       "</table>\n",
       "</div>"
      ],
      "text/plain": [
       "              Date      Time  Global_active_power  Global_reactive_power  \\\n",
       "1150545 2009-02-22  17:09:00               11.122                  0.174   \n",
       "\n",
       "         Voltage  Global_intensity  Sub_metering_1  Sub_metering_2  \\\n",
       "1150545   229.78              48.4            35.0            69.0   \n",
       "\n",
       "         Sub_metering_3 week_day  year  \n",
       "1150545            16.0  Domingo  2009  "
      ]
     },
     "execution_count": 16,
     "metadata": {},
     "output_type": "execute_result"
    }
   ],
   "source": [
    "max_consuption_day = df_household.copy()\n",
    "\n",
    "max_value = max(max_consuption_day['Global_active_power'])\n",
    "\n",
    "max_consuption_day = max_consuption_day[max_consuption_day['Global_active_power'] == max_value]\n",
    "\n",
    "max_consuption_day"
   ]
  },
  {
   "cell_type": "markdown",
   "id": "50e38c37",
   "metadata": {},
   "source": [
    "--- \n",
    "\n",
    "### 10. Compare o consumo médio de energia ativa global em dias de semana versus finais desemana."
   ]
  },
  {
   "cell_type": "code",
   "execution_count": 17,
   "id": "d65b1aa7",
   "metadata": {},
   "outputs": [
    {
     "data": {
      "application/vnd.plotly.v1+json": {
       "config": {
        "plotlyServerURL": "https://plot.ly"
       },
       "data": [
        {
         "hovertemplate": "week_day=%{x}<br>Global_active_power=%{text}<extra></extra>",
         "legendgroup": "",
         "marker": {
          "color": "#636efa",
          "pattern": {
           "shape": ""
          }
         },
         "name": "",
         "orientation": "v",
         "showlegend": false,
         "text": {
          "bdata": "hetRuB6F8z+HFtnO91PxPwaBlUOLbO8/K4cW2c738z8AAAAAAADwP+Olm8QgsPA/H4XrUbge8T8=",
          "dtype": "f8"
         },
         "textposition": "auto",
         "type": "bar",
         "x": [
          "Domingo",
          "Quarta",
          "Quinta",
          "Sabado",
          "Segunda",
          "Sexta",
          "Terça"
         ],
         "xaxis": "x",
         "y": {
          "bdata": "hetRuB6F8z+HFtnO91PxPwaBlUOLbO8/K4cW2c738z8AAAAAAADwP+Olm8QgsPA/H4XrUbge8T8=",
          "dtype": "f8"
         },
         "yaxis": "y"
        }
       ],
       "layout": {
        "barmode": "relative",
        "height": 800,
        "legend": {
         "tracegroupgap": 0
        },
        "template": {
         "data": {
          "bar": [
           {
            "error_x": {
             "color": "#2a3f5f"
            },
            "error_y": {
             "color": "#2a3f5f"
            },
            "marker": {
             "line": {
              "color": "#E5ECF6",
              "width": 0.5
             },
             "pattern": {
              "fillmode": "overlay",
              "size": 10,
              "solidity": 0.2
             }
            },
            "type": "bar"
           }
          ],
          "barpolar": [
           {
            "marker": {
             "line": {
              "color": "#E5ECF6",
              "width": 0.5
             },
             "pattern": {
              "fillmode": "overlay",
              "size": 10,
              "solidity": 0.2
             }
            },
            "type": "barpolar"
           }
          ],
          "carpet": [
           {
            "aaxis": {
             "endlinecolor": "#2a3f5f",
             "gridcolor": "white",
             "linecolor": "white",
             "minorgridcolor": "white",
             "startlinecolor": "#2a3f5f"
            },
            "baxis": {
             "endlinecolor": "#2a3f5f",
             "gridcolor": "white",
             "linecolor": "white",
             "minorgridcolor": "white",
             "startlinecolor": "#2a3f5f"
            },
            "type": "carpet"
           }
          ],
          "choropleth": [
           {
            "colorbar": {
             "outlinewidth": 0,
             "ticks": ""
            },
            "type": "choropleth"
           }
          ],
          "contour": [
           {
            "colorbar": {
             "outlinewidth": 0,
             "ticks": ""
            },
            "colorscale": [
             [
              0,
              "#0d0887"
             ],
             [
              0.1111111111111111,
              "#46039f"
             ],
             [
              0.2222222222222222,
              "#7201a8"
             ],
             [
              0.3333333333333333,
              "#9c179e"
             ],
             [
              0.4444444444444444,
              "#bd3786"
             ],
             [
              0.5555555555555556,
              "#d8576b"
             ],
             [
              0.6666666666666666,
              "#ed7953"
             ],
             [
              0.7777777777777778,
              "#fb9f3a"
             ],
             [
              0.8888888888888888,
              "#fdca26"
             ],
             [
              1,
              "#f0f921"
             ]
            ],
            "type": "contour"
           }
          ],
          "contourcarpet": [
           {
            "colorbar": {
             "outlinewidth": 0,
             "ticks": ""
            },
            "type": "contourcarpet"
           }
          ],
          "heatmap": [
           {
            "colorbar": {
             "outlinewidth": 0,
             "ticks": ""
            },
            "colorscale": [
             [
              0,
              "#0d0887"
             ],
             [
              0.1111111111111111,
              "#46039f"
             ],
             [
              0.2222222222222222,
              "#7201a8"
             ],
             [
              0.3333333333333333,
              "#9c179e"
             ],
             [
              0.4444444444444444,
              "#bd3786"
             ],
             [
              0.5555555555555556,
              "#d8576b"
             ],
             [
              0.6666666666666666,
              "#ed7953"
             ],
             [
              0.7777777777777778,
              "#fb9f3a"
             ],
             [
              0.8888888888888888,
              "#fdca26"
             ],
             [
              1,
              "#f0f921"
             ]
            ],
            "type": "heatmap"
           }
          ],
          "histogram": [
           {
            "marker": {
             "pattern": {
              "fillmode": "overlay",
              "size": 10,
              "solidity": 0.2
             }
            },
            "type": "histogram"
           }
          ],
          "histogram2d": [
           {
            "colorbar": {
             "outlinewidth": 0,
             "ticks": ""
            },
            "colorscale": [
             [
              0,
              "#0d0887"
             ],
             [
              0.1111111111111111,
              "#46039f"
             ],
             [
              0.2222222222222222,
              "#7201a8"
             ],
             [
              0.3333333333333333,
              "#9c179e"
             ],
             [
              0.4444444444444444,
              "#bd3786"
             ],
             [
              0.5555555555555556,
              "#d8576b"
             ],
             [
              0.6666666666666666,
              "#ed7953"
             ],
             [
              0.7777777777777778,
              "#fb9f3a"
             ],
             [
              0.8888888888888888,
              "#fdca26"
             ],
             [
              1,
              "#f0f921"
             ]
            ],
            "type": "histogram2d"
           }
          ],
          "histogram2dcontour": [
           {
            "colorbar": {
             "outlinewidth": 0,
             "ticks": ""
            },
            "colorscale": [
             [
              0,
              "#0d0887"
             ],
             [
              0.1111111111111111,
              "#46039f"
             ],
             [
              0.2222222222222222,
              "#7201a8"
             ],
             [
              0.3333333333333333,
              "#9c179e"
             ],
             [
              0.4444444444444444,
              "#bd3786"
             ],
             [
              0.5555555555555556,
              "#d8576b"
             ],
             [
              0.6666666666666666,
              "#ed7953"
             ],
             [
              0.7777777777777778,
              "#fb9f3a"
             ],
             [
              0.8888888888888888,
              "#fdca26"
             ],
             [
              1,
              "#f0f921"
             ]
            ],
            "type": "histogram2dcontour"
           }
          ],
          "mesh3d": [
           {
            "colorbar": {
             "outlinewidth": 0,
             "ticks": ""
            },
            "type": "mesh3d"
           }
          ],
          "parcoords": [
           {
            "line": {
             "colorbar": {
              "outlinewidth": 0,
              "ticks": ""
             }
            },
            "type": "parcoords"
           }
          ],
          "pie": [
           {
            "automargin": true,
            "type": "pie"
           }
          ],
          "scatter": [
           {
            "fillpattern": {
             "fillmode": "overlay",
             "size": 10,
             "solidity": 0.2
            },
            "type": "scatter"
           }
          ],
          "scatter3d": [
           {
            "line": {
             "colorbar": {
              "outlinewidth": 0,
              "ticks": ""
             }
            },
            "marker": {
             "colorbar": {
              "outlinewidth": 0,
              "ticks": ""
             }
            },
            "type": "scatter3d"
           }
          ],
          "scattercarpet": [
           {
            "marker": {
             "colorbar": {
              "outlinewidth": 0,
              "ticks": ""
             }
            },
            "type": "scattercarpet"
           }
          ],
          "scattergeo": [
           {
            "marker": {
             "colorbar": {
              "outlinewidth": 0,
              "ticks": ""
             }
            },
            "type": "scattergeo"
           }
          ],
          "scattergl": [
           {
            "marker": {
             "colorbar": {
              "outlinewidth": 0,
              "ticks": ""
             }
            },
            "type": "scattergl"
           }
          ],
          "scattermap": [
           {
            "marker": {
             "colorbar": {
              "outlinewidth": 0,
              "ticks": ""
             }
            },
            "type": "scattermap"
           }
          ],
          "scattermapbox": [
           {
            "marker": {
             "colorbar": {
              "outlinewidth": 0,
              "ticks": ""
             }
            },
            "type": "scattermapbox"
           }
          ],
          "scatterpolar": [
           {
            "marker": {
             "colorbar": {
              "outlinewidth": 0,
              "ticks": ""
             }
            },
            "type": "scatterpolar"
           }
          ],
          "scatterpolargl": [
           {
            "marker": {
             "colorbar": {
              "outlinewidth": 0,
              "ticks": ""
             }
            },
            "type": "scatterpolargl"
           }
          ],
          "scatterternary": [
           {
            "marker": {
             "colorbar": {
              "outlinewidth": 0,
              "ticks": ""
             }
            },
            "type": "scatterternary"
           }
          ],
          "surface": [
           {
            "colorbar": {
             "outlinewidth": 0,
             "ticks": ""
            },
            "colorscale": [
             [
              0,
              "#0d0887"
             ],
             [
              0.1111111111111111,
              "#46039f"
             ],
             [
              0.2222222222222222,
              "#7201a8"
             ],
             [
              0.3333333333333333,
              "#9c179e"
             ],
             [
              0.4444444444444444,
              "#bd3786"
             ],
             [
              0.5555555555555556,
              "#d8576b"
             ],
             [
              0.6666666666666666,
              "#ed7953"
             ],
             [
              0.7777777777777778,
              "#fb9f3a"
             ],
             [
              0.8888888888888888,
              "#fdca26"
             ],
             [
              1,
              "#f0f921"
             ]
            ],
            "type": "surface"
           }
          ],
          "table": [
           {
            "cells": {
             "fill": {
              "color": "#EBF0F8"
             },
             "line": {
              "color": "white"
             }
            },
            "header": {
             "fill": {
              "color": "#C8D4E3"
             },
             "line": {
              "color": "white"
             }
            },
            "type": "table"
           }
          ]
         },
         "layout": {
          "annotationdefaults": {
           "arrowcolor": "#2a3f5f",
           "arrowhead": 0,
           "arrowwidth": 1
          },
          "autotypenumbers": "strict",
          "coloraxis": {
           "colorbar": {
            "outlinewidth": 0,
            "ticks": ""
           }
          },
          "colorscale": {
           "diverging": [
            [
             0,
             "#8e0152"
            ],
            [
             0.1,
             "#c51b7d"
            ],
            [
             0.2,
             "#de77ae"
            ],
            [
             0.3,
             "#f1b6da"
            ],
            [
             0.4,
             "#fde0ef"
            ],
            [
             0.5,
             "#f7f7f7"
            ],
            [
             0.6,
             "#e6f5d0"
            ],
            [
             0.7,
             "#b8e186"
            ],
            [
             0.8,
             "#7fbc41"
            ],
            [
             0.9,
             "#4d9221"
            ],
            [
             1,
             "#276419"
            ]
           ],
           "sequential": [
            [
             0,
             "#0d0887"
            ],
            [
             0.1111111111111111,
             "#46039f"
            ],
            [
             0.2222222222222222,
             "#7201a8"
            ],
            [
             0.3333333333333333,
             "#9c179e"
            ],
            [
             0.4444444444444444,
             "#bd3786"
            ],
            [
             0.5555555555555556,
             "#d8576b"
            ],
            [
             0.6666666666666666,
             "#ed7953"
            ],
            [
             0.7777777777777778,
             "#fb9f3a"
            ],
            [
             0.8888888888888888,
             "#fdca26"
            ],
            [
             1,
             "#f0f921"
            ]
           ],
           "sequentialminus": [
            [
             0,
             "#0d0887"
            ],
            [
             0.1111111111111111,
             "#46039f"
            ],
            [
             0.2222222222222222,
             "#7201a8"
            ],
            [
             0.3333333333333333,
             "#9c179e"
            ],
            [
             0.4444444444444444,
             "#bd3786"
            ],
            [
             0.5555555555555556,
             "#d8576b"
            ],
            [
             0.6666666666666666,
             "#ed7953"
            ],
            [
             0.7777777777777778,
             "#fb9f3a"
            ],
            [
             0.8888888888888888,
             "#fdca26"
            ],
            [
             1,
             "#f0f921"
            ]
           ]
          },
          "colorway": [
           "#636efa",
           "#EF553B",
           "#00cc96",
           "#ab63fa",
           "#FFA15A",
           "#19d3f3",
           "#FF6692",
           "#B6E880",
           "#FF97FF",
           "#FECB52"
          ],
          "font": {
           "color": "#2a3f5f"
          },
          "geo": {
           "bgcolor": "white",
           "lakecolor": "white",
           "landcolor": "#E5ECF6",
           "showlakes": true,
           "showland": true,
           "subunitcolor": "white"
          },
          "hoverlabel": {
           "align": "left"
          },
          "hovermode": "closest",
          "mapbox": {
           "style": "light"
          },
          "paper_bgcolor": "white",
          "plot_bgcolor": "#E5ECF6",
          "polar": {
           "angularaxis": {
            "gridcolor": "white",
            "linecolor": "white",
            "ticks": ""
           },
           "bgcolor": "#E5ECF6",
           "radialaxis": {
            "gridcolor": "white",
            "linecolor": "white",
            "ticks": ""
           }
          },
          "scene": {
           "xaxis": {
            "backgroundcolor": "#E5ECF6",
            "gridcolor": "white",
            "gridwidth": 2,
            "linecolor": "white",
            "showbackground": true,
            "ticks": "",
            "zerolinecolor": "white"
           },
           "yaxis": {
            "backgroundcolor": "#E5ECF6",
            "gridcolor": "white",
            "gridwidth": 2,
            "linecolor": "white",
            "showbackground": true,
            "ticks": "",
            "zerolinecolor": "white"
           },
           "zaxis": {
            "backgroundcolor": "#E5ECF6",
            "gridcolor": "white",
            "gridwidth": 2,
            "linecolor": "white",
            "showbackground": true,
            "ticks": "",
            "zerolinecolor": "white"
           }
          },
          "shapedefaults": {
           "line": {
            "color": "#2a3f5f"
           }
          },
          "ternary": {
           "aaxis": {
            "gridcolor": "white",
            "linecolor": "white",
            "ticks": ""
           },
           "baxis": {
            "gridcolor": "white",
            "linecolor": "white",
            "ticks": ""
           },
           "bgcolor": "#E5ECF6",
           "caxis": {
            "gridcolor": "white",
            "linecolor": "white",
            "ticks": ""
           }
          },
          "title": {
           "x": 0.05
          },
          "xaxis": {
           "automargin": true,
           "gridcolor": "white",
           "linecolor": "white",
           "ticks": "",
           "title": {
            "standoff": 15
           },
           "zerolinecolor": "white",
           "zerolinewidth": 2
          },
          "yaxis": {
           "automargin": true,
           "gridcolor": "white",
           "linecolor": "white",
           "ticks": "",
           "title": {
            "standoff": 15
           },
           "zerolinecolor": "white",
           "zerolinewidth": 2
          }
         }
        },
        "title": {
         "text": "Comsumo / dia da semana"
        },
        "width": 800,
        "xaxis": {
         "anchor": "y",
         "domain": [
          0,
          1
         ],
         "title": {
          "text": "week_day"
         }
        },
        "yaxis": {
         "anchor": "x",
         "domain": [
          0,
          1
         ],
         "title": {
          "text": "Global_active_power"
         }
        }
       }
      }
     },
     "metadata": {},
     "output_type": "display_data"
    }
   ],
   "source": [
    "week_day_consuption = df_household.groupby('week_day')['Global_active_power'].mean().round(3).reset_index()\n",
    "\n",
    "fig = px.bar(\n",
    "    week_day_consuption,\n",
    "    x=\"week_day\",\n",
    "    y=\"Global_active_power\",\n",
    "    title=\"Comsumo / dia da semana\",\n",
    "    text=\"Global_active_power\",\n",
    ")\n",
    "fig.update_layout(\n",
    "    width=800,\n",
    "    height=800,\n",
    ")\n",
    "\n",
    "fig.show()"
   ]
  },
  {
   "cell_type": "markdown",
   "id": "a321202c",
   "metadata": {},
   "source": [
    "> O consumo é maior aos finais de semana\n",
    "\n",
    "--- \n",
    "\n",
    "11. Calcule a correlação entre as variáveis Global_active_power, Global_reactive_power, Voltage e Global_intensity."
   ]
  },
  {
   "cell_type": "code",
   "execution_count": 22,
   "id": "693dc1c9",
   "metadata": {},
   "outputs": [
    {
     "data": {
      "image/png": "[encoded data removed]",
      "text/plain": [
       "<Figure size 640x480 with 2 Axes>"
      ]
     },
     "metadata": {},
     "output_type": "display_data"
    }
   ],
   "source": [
    "\n",
    "df_correlation = df_household[\n",
    "    [\"Global_active_power\", \"Global_reactive_power\", \"Voltage\", \"Global_intensity\"]\n",
    "].copy()\n",
    "\n",
    "# Calcula a matriz de correlação\n",
    "corr = df_correlation.corr()\n",
    "\n",
    "# Cria o mapa de calor\n",
    "sns.heatmap(corr, annot=True, fmt=\".2f\", cmap=\"viridis\")\n",
    "\n",
    "plt.title(\"Mapa de Calor - Correlação\")\n",
    "plt.show()"
   ]
  },
  {
   "cell_type": "markdown",
   "id": "171b5f77",
   "metadata": {},
   "source": [
    "> Sem correlação\n",
    "\n",
    "---\n",
    "\n",
    "### 12. Crie uma nova variável chamada Total_Sub_metering que some Sub_metering_1,Sub_metering_2 e Sub_metering_3"
   ]
  },
  {
   "cell_type": "code",
   "execution_count": 24,
   "id": "31b354e5",
   "metadata": {},
   "outputs": [
    {
     "data": {
      "text/html": [
       "<div>\n",
       "<style scoped>\n",
       "    .dataframe tbody tr th:only-of-type {\n",
       "        vertical-align: middle;\n",
       "    }\n",
       "\n",
       "    .dataframe tbody tr th {\n",
       "        vertical-align: top;\n",
       "    }\n",
       "\n",
       "    .dataframe thead th {\n",
       "        text-align: right;\n",
       "    }\n",
       "</style>\n",
       "<table border=\"1\" class=\"dataframe\">\n",
       "  <thead>\n",
       "    <tr style=\"text-align: right;\">\n",
       "      <th></th>\n",
       "      <th>Date</th>\n",
       "      <th>Time</th>\n",
       "      <th>Global_active_power</th>\n",
       "      <th>Global_reactive_power</th>\n",
       "      <th>Voltage</th>\n",
       "      <th>Global_intensity</th>\n",
       "      <th>Sub_metering_1</th>\n",
       "      <th>Sub_metering_2</th>\n",
       "      <th>Sub_metering_3</th>\n",
       "      <th>week_day</th>\n",
       "      <th>year</th>\n",
       "      <th>Total_Sub_metering</th>\n",
       "    </tr>\n",
       "  </thead>\n",
       "  <tbody>\n",
       "    <tr>\n",
       "      <th>0</th>\n",
       "      <td>2006-12-16</td>\n",
       "      <td>17:24:00</td>\n",
       "      <td>4.216</td>\n",
       "      <td>0.418</td>\n",
       "      <td>234.84</td>\n",
       "      <td>18.4</td>\n",
       "      <td>0.0</td>\n",
       "      <td>1.0</td>\n",
       "      <td>17.0</td>\n",
       "      <td>Sabado</td>\n",
       "      <td>2006</td>\n",
       "      <td>18.0</td>\n",
       "    </tr>\n",
       "    <tr>\n",
       "      <th>1</th>\n",
       "      <td>2006-12-16</td>\n",
       "      <td>17:25:00</td>\n",
       "      <td>5.360</td>\n",
       "      <td>0.436</td>\n",
       "      <td>233.63</td>\n",
       "      <td>23.0</td>\n",
       "      <td>0.0</td>\n",
       "      <td>1.0</td>\n",
       "      <td>16.0</td>\n",
       "      <td>Sabado</td>\n",
       "      <td>2006</td>\n",
       "      <td>17.0</td>\n",
       "    </tr>\n",
       "    <tr>\n",
       "      <th>2</th>\n",
       "      <td>2006-12-16</td>\n",
       "      <td>17:26:00</td>\n",
       "      <td>5.374</td>\n",
       "      <td>0.498</td>\n",
       "      <td>233.29</td>\n",
       "      <td>23.0</td>\n",
       "      <td>0.0</td>\n",
       "      <td>2.0</td>\n",
       "      <td>17.0</td>\n",
       "      <td>Sabado</td>\n",
       "      <td>2006</td>\n",
       "      <td>19.0</td>\n",
       "    </tr>\n",
       "    <tr>\n",
       "      <th>3</th>\n",
       "      <td>2006-12-16</td>\n",
       "      <td>17:27:00</td>\n",
       "      <td>5.388</td>\n",
       "      <td>0.502</td>\n",
       "      <td>233.74</td>\n",
       "      <td>23.0</td>\n",
       "      <td>0.0</td>\n",
       "      <td>1.0</td>\n",
       "      <td>17.0</td>\n",
       "      <td>Sabado</td>\n",
       "      <td>2006</td>\n",
       "      <td>18.0</td>\n",
       "    </tr>\n",
       "    <tr>\n",
       "      <th>4</th>\n",
       "      <td>2006-12-16</td>\n",
       "      <td>17:28:00</td>\n",
       "      <td>3.666</td>\n",
       "      <td>0.528</td>\n",
       "      <td>235.68</td>\n",
       "      <td>15.8</td>\n",
       "      <td>0.0</td>\n",
       "      <td>1.0</td>\n",
       "      <td>17.0</td>\n",
       "      <td>Sabado</td>\n",
       "      <td>2006</td>\n",
       "      <td>18.0</td>\n",
       "    </tr>\n",
       "  </tbody>\n",
       "</table>\n",
       "</div>"
      ],
      "text/plain": [
       "        Date      Time  Global_active_power  Global_reactive_power  Voltage  \\\n",
       "0 2006-12-16  17:24:00                4.216                  0.418   234.84   \n",
       "1 2006-12-16  17:25:00                5.360                  0.436   233.63   \n",
       "2 2006-12-16  17:26:00                5.374                  0.498   233.29   \n",
       "3 2006-12-16  17:27:00                5.388                  0.502   233.74   \n",
       "4 2006-12-16  17:28:00                3.666                  0.528   235.68   \n",
       "\n",
       "   Global_intensity  Sub_metering_1  Sub_metering_2  Sub_metering_3 week_day  \\\n",
       "0              18.4             0.0             1.0            17.0   Sabado   \n",
       "1              23.0             0.0             1.0            16.0   Sabado   \n",
       "2              23.0             0.0             2.0            17.0   Sabado   \n",
       "3              23.0             0.0             1.0            17.0   Sabado   \n",
       "4              15.8             0.0             1.0            17.0   Sabado   \n",
       "\n",
       "   year  Total_Sub_metering  \n",
       "0  2006                18.0  \n",
       "1  2006                17.0  \n",
       "2  2006                19.0  \n",
       "3  2006                18.0  \n",
       "4  2006                18.0  "
      ]
     },
     "execution_count": 24,
     "metadata": {},
     "output_type": "execute_result"
    }
   ],
   "source": [
    "'Sub_metering_1', 'Sub_metering_2', 'Sub_metering_3'\n",
    "\n",
    "def soma_sub_metering(row):\n",
    "    soma = row['Sub_metering_1'] + row['Sub_metering_2'] + row['Sub_metering_3']\n",
    "    return soma\n",
    "\n",
    "df_household['Total_Sub_metering'] = df_household.apply(lambda x: soma_sub_metering(x), axis=1)\n",
    "df_household.head()"
   ]
  },
  {
   "cell_type": "markdown",
   "id": "d34c4573",
   "metadata": {},
   "source": [
    "--- \n",
    "\n",
    "### 13. Verifique se há algum mês em que Total_Sub_metering ultrapassa a média de Global_active_power."
   ]
  },
  {
   "cell_type": "code",
   "execution_count": 44,
   "id": "58f83e5b",
   "metadata": {},
   "outputs": [
    {
     "data": {
      "text/html": [
       "<div>\n",
       "<style scoped>\n",
       "    .dataframe tbody tr th:only-of-type {\n",
       "        vertical-align: middle;\n",
       "    }\n",
       "\n",
       "    .dataframe tbody tr th {\n",
       "        vertical-align: top;\n",
       "    }\n",
       "\n",
       "    .dataframe thead th {\n",
       "        text-align: right;\n",
       "    }\n",
       "</style>\n",
       "<table border=\"1\" class=\"dataframe\">\n",
       "  <thead>\n",
       "    <tr style=\"text-align: right;\">\n",
       "      <th></th>\n",
       "      <th>simple_date</th>\n",
       "      <th>Total_Sub_metering</th>\n",
       "    </tr>\n",
       "  </thead>\n",
       "  <tbody>\n",
       "    <tr>\n",
       "      <th>0</th>\n",
       "      <td>2006-Dec</td>\n",
       "      <td>10.873181</td>\n",
       "    </tr>\n",
       "    <tr>\n",
       "      <th>1</th>\n",
       "      <td>2007-Apr</td>\n",
       "      <td>6.839375</td>\n",
       "    </tr>\n",
       "    <tr>\n",
       "      <th>2</th>\n",
       "      <td>2007-Aug</td>\n",
       "      <td>6.979336</td>\n",
       "    </tr>\n",
       "    <tr>\n",
       "      <th>3</th>\n",
       "      <td>2007-Dec</td>\n",
       "      <td>11.636551</td>\n",
       "    </tr>\n",
       "    <tr>\n",
       "      <th>4</th>\n",
       "      <td>2007-Feb</td>\n",
       "      <td>9.486135</td>\n",
       "    </tr>\n",
       "  </tbody>\n",
       "</table>\n",
       "</div>"
      ],
      "text/plain": [
       "  simple_date  Total_Sub_metering\n",
       "0    2006-Dec           10.873181\n",
       "1    2007-Apr            6.839375\n",
       "2    2007-Aug            6.979336\n",
       "3    2007-Dec           11.636551\n",
       "4    2007-Feb            9.486135"
      ]
     },
     "execution_count": 44,
     "metadata": {},
     "output_type": "execute_result"
    }
   ],
   "source": [
    "df_household['simple_date'] = df_household['Date'].apply(lambda x: x.strftime(\"%Y-%b\"))\n",
    "df_household_group_by_simple_date = df_household.groupby(['simple_date']).agg({'Total_Sub_metering': 'mean'}).reset_index()\n",
    "global_consuption_mean = df_household['Global_active_power'].mean()\n",
    "df_household_group_by_simple_date.head()"
   ]
  },
  {
   "cell_type": "code",
   "execution_count": 45,
   "id": "a54fbfdc",
   "metadata": {},
   "outputs": [
    {
     "data": {
      "text/html": [
       "<div>\n",
       "<style scoped>\n",
       "    .dataframe tbody tr th:only-of-type {\n",
       "        vertical-align: middle;\n",
       "    }\n",
       "\n",
       "    .dataframe tbody tr th {\n",
       "        vertical-align: top;\n",
       "    }\n",
       "\n",
       "    .dataframe thead th {\n",
       "        text-align: right;\n",
       "    }\n",
       "</style>\n",
       "<table border=\"1\" class=\"dataframe\">\n",
       "  <thead>\n",
       "    <tr style=\"text-align: right;\">\n",
       "      <th></th>\n",
       "      <th>simple_date</th>\n",
       "      <th>Total_Sub_metering</th>\n",
       "      <th>dif_power_metering</th>\n",
       "    </tr>\n",
       "  </thead>\n",
       "  <tbody>\n",
       "    <tr>\n",
       "      <th>0</th>\n",
       "      <td>2006-Dec</td>\n",
       "      <td>10.873181</td>\n",
       "      <td>-9.781566</td>\n",
       "    </tr>\n",
       "    <tr>\n",
       "      <th>1</th>\n",
       "      <td>2007-Apr</td>\n",
       "      <td>6.839375</td>\n",
       "      <td>-5.747760</td>\n",
       "    </tr>\n",
       "    <tr>\n",
       "      <th>2</th>\n",
       "      <td>2007-Aug</td>\n",
       "      <td>6.979336</td>\n",
       "      <td>-5.887721</td>\n",
       "    </tr>\n",
       "    <tr>\n",
       "      <th>3</th>\n",
       "      <td>2007-Dec</td>\n",
       "      <td>11.636551</td>\n",
       "      <td>-10.544936</td>\n",
       "    </tr>\n",
       "    <tr>\n",
       "      <th>4</th>\n",
       "      <td>2007-Feb</td>\n",
       "      <td>9.486135</td>\n",
       "      <td>-8.394520</td>\n",
       "    </tr>\n",
       "  </tbody>\n",
       "</table>\n",
       "</div>"
      ],
      "text/plain": [
       "  simple_date  Total_Sub_metering  dif_power_metering\n",
       "0    2006-Dec           10.873181           -9.781566\n",
       "1    2007-Apr            6.839375           -5.747760\n",
       "2    2007-Aug            6.979336           -5.887721\n",
       "3    2007-Dec           11.636551          -10.544936\n",
       "4    2007-Feb            9.486135           -8.394520"
      ]
     },
     "execution_count": 45,
     "metadata": {},
     "output_type": "execute_result"
    }
   ],
   "source": [
    "df_household_group_by_simple_date['dif_power_metering'] = df_household_group_by_simple_date['Total_Sub_metering'].apply(lambda x: global_consuption_mean - x)\n",
    "df_household_group_by_simple_date.head()"
   ]
  },
  {
   "cell_type": "code",
   "execution_count": 46,
   "id": "74514615",
   "metadata": {},
   "outputs": [
    {
     "data": {
      "application/vnd.plotly.v1+json": {
       "config": {
        "plotlyServerURL": "https://plot.ly"
       },
       "data": [
        {
         "hovertemplate": "simple_date=%{x}<br>dif_power_metering=%{text}<extra></extra>",
         "legendgroup": "",
         "marker": {
          "color": "#636efa",
          "pattern": {
           "shape": ""
          }
         },
         "name": "",
         "orientation": "v",
         "showlegend": false,
         "text": {
          "bdata": "U488bymQI8DrCgK+tP0WwJS94aQGjRfAaimq2AEXJcBZGtaM/skgwCf0DzLvqSLAmPW+16dsEsANrzm1byYZwPDP9zwUPiLAXcVDj3xxHcAtCh/toXQhwCH1HdrdVB7AX797TV91HMAtWu/bXPcgwHuR40ktdfS/5ZzJkprOHsA3CpRhw2wdwOM49AqjYyHAfw8pIhc3GMDjJu5KAl4hwEJRTqn/uSDAp7BrAx+2H8AUNqbdcBYgwAc1v6QYAR7ALbBXAy3vHsB8ErwONgchwC2pAjCNzBPAKA1Ukw8BJMCRm5N9j2MhwDP/iKGUMiPAnXmTDWrrEcBFuI1hzdQbwD0p5Gc0nCHAQ/QlV9nmH8BRgCHk/p8iwGrQanJ8WSHA+PEBFoUSIMDXJX0NgtUgwJqQO4UR+xDAIWz+M6pXJ8D8pTg++jYmwF0ZESf2lBHATTTBH1JHIcD2qzaBM4shwJTJwt7IpyLAMV7NT2inH8DGIfY3S9EgwHP8YTLgHB7A",
          "dtype": "f8"
         },
         "textposition": "auto",
         "type": "bar",
         "x": [
          "2006-Dec",
          "2007-Apr",
          "2007-Aug",
          "2007-Dec",
          "2007-Feb",
          "2007-Jan",
          "2007-Jul",
          "2007-Jun",
          "2007-Mar",
          "2007-May",
          "2007-Nov",
          "2007-Oct",
          "2007-Sep",
          "2008-Apr",
          "2008-Aug",
          "2008-Dec",
          "2008-Feb",
          "2008-Jan",
          "2008-Jul",
          "2008-Jun",
          "2008-Mar",
          "2008-May",
          "2008-Nov",
          "2008-Oct",
          "2008-Sep",
          "2009-Apr",
          "2009-Aug",
          "2009-Dec",
          "2009-Feb",
          "2009-Jan",
          "2009-Jul",
          "2009-Jun",
          "2009-Mar",
          "2009-May",
          "2009-Nov",
          "2009-Oct",
          "2009-Sep",
          "2010-Apr",
          "2010-Aug",
          "2010-Feb",
          "2010-Jan",
          "2010-Jul",
          "2010-Jun",
          "2010-Mar",
          "2010-May",
          "2010-Nov",
          "2010-Oct",
          "2010-Sep"
         ],
         "xaxis": "x",
         "y": {
          "bdata": "U488bymQI8DrCgK+tP0WwJS94aQGjRfAaimq2AEXJcBZGtaM/skgwCf0DzLvqSLAmPW+16dsEsANrzm1byYZwPDP9zwUPiLAXcVDj3xxHcAtCh/toXQhwCH1HdrdVB7AX797TV91HMAtWu/bXPcgwHuR40ktdfS/5ZzJkprOHsA3CpRhw2wdwOM49AqjYyHAfw8pIhc3GMDjJu5KAl4hwEJRTqn/uSDAp7BrAx+2H8AUNqbdcBYgwAc1v6QYAR7ALbBXAy3vHsB8ErwONgchwC2pAjCNzBPAKA1Ukw8BJMCRm5N9j2MhwDP/iKGUMiPAnXmTDWrrEcBFuI1hzdQbwD0p5Gc0nCHAQ/QlV9nmH8BRgCHk/p8iwGrQanJ8WSHA+PEBFoUSIMDXJX0NgtUgwJqQO4UR+xDAIWz+M6pXJ8D8pTg++jYmwF0ZESf2lBHATTTBH1JHIcD2qzaBM4shwJTJwt7IpyLAMV7NT2inH8DGIfY3S9EgwHP8YTLgHB7A",
          "dtype": "f8"
         },
         "yaxis": "y"
        }
       ],
       "layout": {
        "barmode": "relative",
        "height": 800,
        "legend": {
         "tracegroupgap": 0
        },
        "template": {
         "data": {
          "bar": [
           {
            "error_x": {
             "color": "#2a3f5f"
            },
            "error_y": {
             "color": "#2a3f5f"
            },
            "marker": {
             "line": {
              "color": "#E5ECF6",
              "width": 0.5
             },
             "pattern": {
              "fillmode": "overlay",
              "size": 10,
              "solidity": 0.2
             }
            },
            "type": "bar"
           }
          ],
          "barpolar": [
           {
            "marker": {
             "line": {
              "color": "#E5ECF6",
              "width": 0.5
             },
             "pattern": {
              "fillmode": "overlay",
              "size": 10,
              "solidity": 0.2
             }
            },
            "type": "barpolar"
           }
          ],
          "carpet": [
           {
            "aaxis": {
             "endlinecolor": "#2a3f5f",
             "gridcolor": "white",
             "linecolor": "white",
             "minorgridcolor": "white",
             "startlinecolor": "#2a3f5f"
            },
            "baxis": {
             "endlinecolor": "#2a3f5f",
             "gridcolor": "white",
             "linecolor": "white",
             "minorgridcolor": "white",
             "startlinecolor": "#2a3f5f"
            },
            "type": "carpet"
           }
          ],
          "choropleth": [
           {
            "colorbar": {
             "outlinewidth": 0,
             "ticks": ""
            },
            "type": "choropleth"
           }
          ],
          "contour": [
           {
            "colorbar": {
             "outlinewidth": 0,
             "ticks": ""
            },
            "colorscale": [
             [
              0,
              "#0d0887"
             ],
             [
              0.1111111111111111,
              "#46039f"
             ],
             [
              0.2222222222222222,
              "#7201a8"
             ],
             [
              0.3333333333333333,
              "#9c179e"
             ],
             [
              0.4444444444444444,
              "#bd3786"
             ],
             [
              0.5555555555555556,
              "#d8576b"
             ],
             [
              0.6666666666666666,
              "#ed7953"
             ],
             [
              0.7777777777777778,
              "#fb9f3a"
             ],
             [
              0.8888888888888888,
              "#fdca26"
             ],
             [
              1,
              "#f0f921"
             ]
            ],
            "type": "contour"
           }
          ],
          "contourcarpet": [
           {
            "colorbar": {
             "outlinewidth": 0,
             "ticks": ""
            },
            "type": "contourcarpet"
           }
          ],
          "heatmap": [
           {
            "colorbar": {
             "outlinewidth": 0,
             "ticks": ""
            },
            "colorscale": [
             [
              0,
              "#0d0887"
             ],
             [
              0.1111111111111111,
              "#46039f"
             ],
             [
              0.2222222222222222,
              "#7201a8"
             ],
             [
              0.3333333333333333,
              "#9c179e"
             ],
             [
              0.4444444444444444,
              "#bd3786"
             ],
             [
              0.5555555555555556,
              "#d8576b"
             ],
             [
              0.6666666666666666,
              "#ed7953"
             ],
             [
              0.7777777777777778,
              "#fb9f3a"
             ],
             [
              0.8888888888888888,
              "#fdca26"
             ],
             [
              1,
              "#f0f921"
             ]
            ],
            "type": "heatmap"
           }
          ],
          "histogram": [
           {
            "marker": {
             "pattern": {
              "fillmode": "overlay",
              "size": 10,
              "solidity": 0.2
             }
            },
            "type": "histogram"
           }
          ],
          "histogram2d": [
           {
            "colorbar": {
             "outlinewidth": 0,
             "ticks": ""
            },
            "colorscale": [
             [
              0,
              "#0d0887"
             ],
             [
              0.1111111111111111,
              "#46039f"
             ],
             [
              0.2222222222222222,
              "#7201a8"
             ],
             [
              0.3333333333333333,
              "#9c179e"
             ],
             [
              0.4444444444444444,
              "#bd3786"
             ],
             [
              0.5555555555555556,
              "#d8576b"
             ],
             [
              0.6666666666666666,
              "#ed7953"
             ],
             [
              0.7777777777777778,
              "#fb9f3a"
             ],
             [
              0.8888888888888888,
              "#fdca26"
             ],
             [
              1,
              "#f0f921"
             ]
            ],
            "type": "histogram2d"
           }
          ],
          "histogram2dcontour": [
           {
            "colorbar": {
             "outlinewidth": 0,
             "ticks": ""
            },
            "colorscale": [
             [
              0,
              "#0d0887"
             ],
             [
              0.1111111111111111,
              "#46039f"
             ],
             [
              0.2222222222222222,
              "#7201a8"
             ],
             [
              0.3333333333333333,
              "#9c179e"
             ],
             [
              0.4444444444444444,
              "#bd3786"
             ],
             [
              0.5555555555555556,
              "#d8576b"
             ],
             [
              0.6666666666666666,
              "#ed7953"
             ],
             [
              0.7777777777777778,
              "#fb9f3a"
             ],
             [
              0.8888888888888888,
              "#fdca26"
             ],
             [
              1,
              "#f0f921"
             ]
            ],
            "type": "histogram2dcontour"
           }
          ],
          "mesh3d": [
           {
            "colorbar": {
             "outlinewidth": 0,
             "ticks": ""
            },
            "type": "mesh3d"
           }
          ],
          "parcoords": [
           {
            "line": {
             "colorbar": {
              "outlinewidth": 0,
              "ticks": ""
             }
            },
            "type": "parcoords"
           }
          ],
          "pie": [
           {
            "automargin": true,
            "type": "pie"
           }
          ],
          "scatter": [
           {
            "fillpattern": {
             "fillmode": "overlay",
             "size": 10,
             "solidity": 0.2
            },
            "type": "scatter"
           }
          ],
          "scatter3d": [
           {
            "line": {
             "colorbar": {
              "outlinewidth": 0,
              "ticks": ""
             }
            },
            "marker": {
             "colorbar": {
              "outlinewidth": 0,
              "ticks": ""
             }
            },
            "type": "scatter3d"
           }
          ],
          "scattercarpet": [
           {
            "marker": {
             "colorbar": {
              "outlinewidth": 0,
              "ticks": ""
             }
            },
            "type": "scattercarpet"
           }
          ],
          "scattergeo": [
           {
            "marker": {
             "colorbar": {
              "outlinewidth": 0,
              "ticks": ""
             }
            },
            "type": "scattergeo"
           }
          ],
          "scattergl": [
           {
            "marker": {
             "colorbar": {
              "outlinewidth": 0,
              "ticks": ""
             }
            },
            "type": "scattergl"
           }
          ],
          "scattermap": [
           {
            "marker": {
             "colorbar": {
              "outlinewidth": 0,
              "ticks": ""
             }
            },
            "type": "scattermap"
           }
          ],
          "scattermapbox": [
           {
            "marker": {
             "colorbar": {
              "outlinewidth": 0,
              "ticks": ""
             }
            },
            "type": "scattermapbox"
           }
          ],
          "scatterpolar": [
           {
            "marker": {
             "colorbar": {
              "outlinewidth": 0,
              "ticks": ""
             }
            },
            "type": "scatterpolar"
           }
          ],
          "scatterpolargl": [
           {
            "marker": {
             "colorbar": {
              "outlinewidth": 0,
              "ticks": ""
             }
            },
            "type": "scatterpolargl"
           }
          ],
          "scatterternary": [
           {
            "marker": {
             "colorbar": {
              "outlinewidth": 0,
              "ticks": ""
             }
            },
            "type": "scatterternary"
           }
          ],
          "surface": [
           {
            "colorbar": {
             "outlinewidth": 0,
             "ticks": ""
            },
            "colorscale": [
             [
              0,
              "#0d0887"
             ],
             [
              0.1111111111111111,
              "#46039f"
             ],
             [
              0.2222222222222222,
              "#7201a8"
             ],
             [
              0.3333333333333333,
              "#9c179e"
             ],
             [
              0.4444444444444444,
              "#bd3786"
             ],
             [
              0.5555555555555556,
              "#d8576b"
             ],
             [
              0.6666666666666666,
              "#ed7953"
             ],
             [
              0.7777777777777778,
              "#fb9f3a"
             ],
             [
              0.8888888888888888,
              "#fdca26"
             ],
             [
              1,
              "#f0f921"
             ]
            ],
            "type": "surface"
           }
          ],
          "table": [
           {
            "cells": {
             "fill": {
              "color": "#EBF0F8"
             },
             "line": {
              "color": "white"
             }
            },
            "header": {
             "fill": {
              "color": "#C8D4E3"
             },
             "line": {
              "color": "white"
             }
            },
            "type": "table"
           }
          ]
         },
         "layout": {
          "annotationdefaults": {
           "arrowcolor": "#2a3f5f",
           "arrowhead": 0,
           "arrowwidth": 1
          },
          "autotypenumbers": "strict",
          "coloraxis": {
           "colorbar": {
            "outlinewidth": 0,
            "ticks": ""
           }
          },
          "colorscale": {
           "diverging": [
            [
             0,
             "#8e0152"
            ],
            [
             0.1,
             "#c51b7d"
            ],
            [
             0.2,
             "#de77ae"
            ],
            [
             0.3,
             "#f1b6da"
            ],
            [
             0.4,
             "#fde0ef"
            ],
            [
             0.5,
             "#f7f7f7"
            ],
            [
             0.6,
             "#e6f5d0"
            ],
            [
             0.7,
             "#b8e186"
            ],
            [
             0.8,
             "#7fbc41"
            ],
            [
             0.9,
             "#4d9221"
            ],
            [
             1,
             "#276419"
            ]
           ],
           "sequential": [
            [
             0,
             "#0d0887"
            ],
            [
             0.1111111111111111,
             "#46039f"
            ],
            [
             0.2222222222222222,
             "#7201a8"
            ],
            [
             0.3333333333333333,
             "#9c179e"
            ],
            [
             0.4444444444444444,
             "#bd3786"
            ],
            [
             0.5555555555555556,
             "#d8576b"
            ],
            [
             0.6666666666666666,
             "#ed7953"
            ],
            [
             0.7777777777777778,
             "#fb9f3a"
            ],
            [
             0.8888888888888888,
             "#fdca26"
            ],
            [
             1,
             "#f0f921"
            ]
           ],
           "sequentialminus": [
            [
             0,
             "#0d0887"
            ],
            [
             0.1111111111111111,
             "#46039f"
            ],
            [
             0.2222222222222222,
             "#7201a8"
            ],
            [
             0.3333333333333333,
             "#9c179e"
            ],
            [
             0.4444444444444444,
             "#bd3786"
            ],
            [
             0.5555555555555556,
             "#d8576b"
            ],
            [
             0.6666666666666666,
             "#ed7953"
            ],
            [
             0.7777777777777778,
             "#fb9f3a"
            ],
            [
             0.8888888888888888,
             "#fdca26"
            ],
            [
             1,
             "#f0f921"
            ]
           ]
          },
          "colorway": [
           "#636efa",
           "#EF553B",
           "#00cc96",
           "#ab63fa",
           "#FFA15A",
           "#19d3f3",
           "#FF6692",
           "#B6E880",
           "#FF97FF",
           "#FECB52"
          ],
          "font": {
           "color": "#2a3f5f"
          },
          "geo": {
           "bgcolor": "white",
           "lakecolor": "white",
           "landcolor": "#E5ECF6",
           "showlakes": true,
           "showland": true,
           "subunitcolor": "white"
          },
          "hoverlabel": {
           "align": "left"
          },
          "hovermode": "closest",
          "mapbox": {
           "style": "light"
          },
          "paper_bgcolor": "white",
          "plot_bgcolor": "#E5ECF6",
          "polar": {
           "angularaxis": {
            "gridcolor": "white",
            "linecolor": "white",
            "ticks": ""
           },
           "bgcolor": "#E5ECF6",
           "radialaxis": {
            "gridcolor": "white",
            "linecolor": "white",
            "ticks": ""
           }
          },
          "scene": {
           "xaxis": {
            "backgroundcolor": "#E5ECF6",
            "gridcolor": "white",
            "gridwidth": 2,
            "linecolor": "white",
            "showbackground": true,
            "ticks": "",
            "zerolinecolor": "white"
           },
           "yaxis": {
            "backgroundcolor": "#E5ECF6",
            "gridcolor": "white",
            "gridwidth": 2,
            "linecolor": "white",
            "showbackground": true,
            "ticks": "",
            "zerolinecolor": "white"
           },
           "zaxis": {
            "backgroundcolor": "#E5ECF6",
            "gridcolor": "white",
            "gridwidth": 2,
            "linecolor": "white",
            "showbackground": true,
            "ticks": "",
            "zerolinecolor": "white"
           }
          },
          "shapedefaults": {
           "line": {
            "color": "#2a3f5f"
           }
          },
          "ternary": {
           "aaxis": {
            "gridcolor": "white",
            "linecolor": "white",
            "ticks": ""
           },
           "baxis": {
            "gridcolor": "white",
            "linecolor": "white",
            "ticks": ""
           },
           "bgcolor": "#E5ECF6",
           "caxis": {
            "gridcolor": "white",
            "linecolor": "white",
            "ticks": ""
           }
          },
          "title": {
           "x": 0.05
          },
          "xaxis": {
           "automargin": true,
           "gridcolor": "white",
           "linecolor": "white",
           "ticks": "",
           "title": {
            "standoff": 15
           },
           "zerolinecolor": "white",
           "zerolinewidth": 2
          },
          "yaxis": {
           "automargin": true,
           "gridcolor": "white",
           "linecolor": "white",
           "ticks": "",
           "title": {
            "standoff": 15
           },
           "zerolinecolor": "white",
           "zerolinewidth": 2
          }
         }
        },
        "title": {
         "text": "Comsumo / dia da semana"
        },
        "width": 800,
        "xaxis": {
         "anchor": "y",
         "domain": [
          0,
          1
         ],
         "title": {
          "text": "simple_date"
         }
        },
        "yaxis": {
         "anchor": "x",
         "domain": [
          0,
          1
         ],
         "title": {
          "text": "dif_power_metering"
         }
        }
       }
      }
     },
     "metadata": {},
     "output_type": "display_data"
    }
   ],
   "source": [
    "fig = px.bar(\n",
    "    df_household_group_by_simple_date,\n",
    "    x=\"simple_date\",\n",
    "    y=\"dif_power_metering\",\n",
    "    title=\"Comsumo / dia da semana\",\n",
    "    text=\"dif_power_metering\",\n",
    ")\n",
    "fig.update_layout(\n",
    "    width=800,\n",
    "    height=800,\n",
    ")\n",
    "\n",
    "fig.show()"
   ]
  },
  {
   "cell_type": "markdown",
   "id": "2844cedd",
   "metadata": {},
   "source": [
    "> nenhum mês possui um Total_Sub_metering maior que a média de Global_active_power\n",
    "\n",
    "--- \n",
    "\n",
    "### 14. Faça um gráfico de série temporal do Voltage para o ano de 2008."
   ]
  },
  {
   "cell_type": "code",
   "execution_count": 50,
   "id": "ce419db0",
   "metadata": {},
   "outputs": [
    {
     "data": {
      "image/png": "[encoded data removed]",
      "text/plain": [
       "<Figure size 1000x600 with 1 Axes>"
      ]
     },
     "metadata": {},
     "output_type": "display_data"
    }
   ],
   "source": [
    "df_voltage_year = df_household[\n",
    "    [\n",
    "        \"Date\",\n",
    "        \"Voltage\",\n",
    "        \"year\",\n",
    "    ]\n",
    "].copy()\n",
    "\n",
    "df_voltage_year = df_voltage_year[df_voltage_year['year'] == 2008]\n",
    "\n",
    "df_voltage_year_grouped = df_voltage_year.groupby(['Date','year'])['Voltage'].mean().round(2).reset_index()\n",
    "\n",
    "# Plotar a tendência de consumo ao longo dos anos\n",
    "plt.figure(figsize=(10, 6))\n",
    "plt.plot(\n",
    "    df_voltage_year_grouped[\"Date\"],\n",
    "    df_voltage_year_grouped[\"Voltage\"],\n",
    "    marker=\"o\",\n",
    "    linestyle=\"-\",\n",
    "    color=\"b\",\n",
    ")\n",
    "plt.xlabel(\"Data\")\n",
    "plt.ylabel(\"Voltage\")\n",
    "plt.title(\"Voltagem em 2008\")\n",
    "plt.grid(True)\n",
    "plt.show()"
   ]
  },
  {
   "cell_type": "markdown",
   "id": "b5920fb5",
   "metadata": {},
   "source": [
    "--- \n",
    "\n",
    "### 15. Compare o consumo entre os meses de verão e inverno (no hemisfério norte)"
   ]
  },
  {
   "cell_type": "code",
   "execution_count": 51,
   "id": "324356b3",
   "metadata": {},
   "outputs": [
    {
     "data": {
      "image/png": "[encoded data removed]",
      "text/plain": [
       "<Figure size 640x480 with 1 Axes>"
      ]
     },
     "metadata": {},
     "output_type": "display_data"
    }
   ],
   "source": [
    "df_household[\"Month\"] = df_household[\"Date\"].dt.month\n",
    "verao = df_household[df_household[\"Month\"].isin([6, 7, 8])]\n",
    "inverno = df_household[df_household[\"Month\"].isin([12, 1, 2])]\n",
    "\n",
    "consumo_verao = verao[\"Global_active_power\"].mean()\n",
    "consumo_inverno = inverno[\"Global_active_power\"].mean()\n",
    "\n",
    "plt.bar([\"Verão\", \"Inverno\"], [consumo_verao, consumo_inverno])\n",
    "plt.ylabel(\"Consumo médio (Global Active Power)\")\n",
    "plt.title(\"Comparação de Consumo - Verão vs Inverno\")\n",
    "plt.show()"
   ]
  },
  {
   "cell_type": "markdown",
   "id": "7eacca51",
   "metadata": {},
   "source": [
    "> O consumo no inverno é quase o dobro que no verão\n",
    "\n",
    "--- \n",
    "\n",
    "### 16. Aplique uma amostragem aleatória de 1% dos dados e verifique se a distribuição deGlobal_active_power é semelhante à da base completa."
   ]
  }
 ],
 "metadata": {
  "kernelspec": {
   "display_name": "venv",
   "language": "python",
   "name": "python3"
  },
  "language_info": {
   "codemirror_mode": {
    "name": "ipython",
    "version": 3
   },
   "file_extension": ".py",
   "mimetype": "text/x-python",
   "name": "python",
   "nbconvert_exporter": "python",
   "pygments_lexer": "ipython3",
   "version": "3.12.10"
  }
 },
 "nbformat": 4,
 "nbformat_minor": 5
}
